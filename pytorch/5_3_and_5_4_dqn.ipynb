{
 "cells": [
  {
   "cell_type": "code",
   "execution_count": 1,
   "source": [
    "# パッケージのimport\r\n",
    "import numpy as np\r\n",
    "import matplotlib.pyplot as plt\r\n",
    "%matplotlib inline\r\n",
    "import gym"
   ],
   "outputs": [],
   "metadata": {}
  },
  {
   "cell_type": "code",
   "execution_count": 2,
   "source": [
    "# 動画の描画関数の宣言\r\n",
    "# 参考URL http://nbviewer.jupyter.org/github/patrickmineault\r\n",
    "# /xcorr-notebooks/blob/master/Render%20OpenAI%20gym%20as%20GIF.ipynb\r\n",
    "from JSAnimation.IPython_display import display_animation\r\n",
    "from matplotlib import animation\r\n",
    "from IPython.display import display\r\n",
    "\r\n",
    "\r\n",
    "def display_frames_as_gif(frames):\r\n",
    "    \"\"\"\r\n",
    "    Displays a list of frames as a gif, with controls\r\n",
    "    \"\"\"\r\n",
    "    plt.figure(figsize=(frames[0].shape[1]/72.0, frames[0].shape[0]/72.0),\r\n",
    "               dpi=72)\r\n",
    "    patch = plt.imshow(frames[0])\r\n",
    "    plt.axis('off')\r\n",
    "\r\n",
    "    def animate(i):\r\n",
    "        patch.set_data(frames[i])\r\n",
    "\r\n",
    "    anim = animation.FuncAnimation(plt.gcf(), animate, frames=len(frames),\r\n",
    "                                   interval=50)\r\n",
    "\r\n",
    "    anim.save('movie_cartpole_DQN.gif')  # 動画のファイル名と保存です\r\n",
    "    display(display_animation(anim, default_mode='loop'))"
   ],
   "outputs": [],
   "metadata": {}
  },
  {
   "cell_type": "code",
   "execution_count": 3,
   "source": [
    "\r\n",
    "# 本コードでは、namedtupleを使用します。\r\n",
    "# namedtupleを使うことで、値をフィールド名とペアで格納できます。\r\n",
    "# すると値に対して、フィールド名でアクセスできて便利です。\r\n",
    "# https://docs.python.jp/3/library/collections.html#collections.namedtuple\r\n",
    "# 以下は使用例です\r\n",
    " \r\n",
    "from collections import namedtuple\r\n",
    " \r\n",
    "Tr = namedtuple('tr', ('name_a', 'value_b'))\r\n",
    "Tr_object = Tr('名前Aです', 100)\r\n",
    " \r\n",
    "print(Tr_object)  # 出力：tr(name_a='名前Aです', value_b=100)\r\n",
    "print(Tr_object.value_b)  # 出力：100"
   ],
   "outputs": [
    {
     "output_type": "stream",
     "name": "stdout",
     "text": [
      "tr(name_a='名前Aです', value_b=100)\n",
      "100\n"
     ]
    }
   ],
   "metadata": {}
  },
  {
   "cell_type": "code",
   "execution_count": 4,
   "source": [
    "# namedtupleを生成\r\n",
    "from collections import namedtuple\r\n",
    " \r\n",
    "Transition = namedtuple(\r\n",
    "    'Transition', ('state', 'action', 'next_state', 'reward'))\r\n"
   ],
   "outputs": [],
   "metadata": {}
  },
  {
   "cell_type": "code",
   "execution_count": 5,
   "source": [
    "NV = 'CartPole-v0'  # 使用する課題名\r\n",
    "GAMMA = 0.99  # 時間割引率\r\n",
    "MAX_STEPS = 200  # 1試行のstep数\r\n",
    "NUM_EPISODES = 500  # 最大試行回数"
   ],
   "outputs": [],
   "metadata": {}
  },
  {
   "cell_type": "code",
   "execution_count": 6,
   "source": [
    "# 経験を保存するメモリクラスを定義します\r\n",
    " \r\n",
    " \r\n",
    "class ReplayMemory:\r\n",
    " \r\n",
    "    def __init__(self, CAPACITY):\r\n",
    "        self.capacity = CAPACITY  # メモリの最大長さ\r\n",
    "        self.memory = []  # 経験を保存する変数\r\n",
    "        self.index = 0  # 保存するindexを示す変数\r\n",
    " \r\n",
    "    def push(self, state, action, state_next, reward):\r\n",
    "        \"\"\"state, action, state_next, rewardをメモリに保存します\"\"\"\r\n",
    " \r\n",
    "        if len(self.memory) < self.capacity:\r\n",
    "            self.memory.append(None)  # メモリが満タンでないときは足す\r\n",
    " \r\n",
    "        # namedtupleのTransitionを使用し、値とフィールド名をペアにして保存します\r\n",
    "        self.memory[self.index] = Transition(state, action, state_next, reward)\r\n",
    " \r\n",
    "        self.index = (self.index + 1) % self.capacity  # 保存するindexを1つずらす\r\n",
    " \r\n",
    "    def sample(self, batch_size):\r\n",
    "        \"\"\"batch_size分だけ、ランダムに保存内容を取り出します\"\"\"\r\n",
    "        return random.sample(self.memory, batch_size)\r\n",
    " \r\n",
    "    def __len__(self):\r\n",
    "        return len(self.memory)"
   ],
   "outputs": [],
   "metadata": {}
  },
  {
   "cell_type": "code",
   "execution_count": null,
   "source": [],
   "outputs": [],
   "metadata": {}
  }
 ],
 "metadata": {
  "orig_nbformat": 4,
  "language_info": {
   "name": "python",
   "version": "3.9.6",
   "mimetype": "text/x-python",
   "codemirror_mode": {
    "name": "ipython",
    "version": 3
   },
   "pygments_lexer": "ipython3",
   "nbconvert_exporter": "python",
   "file_extension": ".py"
  },
  "kernelspec": {
   "name": "python3",
   "display_name": "Python 3.9.6 64-bit ('rl': conda)"
  },
  "interpreter": {
   "hash": "038d8608cabbe08bfa95b44150dc94e5c00fe384375a362fc4ac8c97693876bc"
  }
 },
 "nbformat": 4,
 "nbformat_minor": 2
}