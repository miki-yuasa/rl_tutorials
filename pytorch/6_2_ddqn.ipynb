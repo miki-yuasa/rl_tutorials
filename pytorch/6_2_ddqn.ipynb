{
 "cells": [
  {
   "cell_type": "code",
   "execution_count": 3,
   "source": [
    "# パッケージのimport\r\n",
    "import numpy as np\r\n",
    "import matplotlib.pyplot as plt\r\n",
    "%matplotlib inline\r\n",
    "import gym"
   ],
   "outputs": [],
   "metadata": {}
  },
  {
   "cell_type": "code",
   "execution_count": 5,
   "source": [
    "# 動画の描画関数の宣言\r\n",
    "# 参考URL http://nbviewer.jupyter.org/github/patrickmineault\r\n",
    "# /xcorr-notebooks/blob/master/Render%20OpenAI%20gym%20as%20GIF.ipynb\r\n",
    "from JSAnimation.IPython_display import display_animation\r\n",
    "from matplotlib import animation\r\n",
    "from IPython.display import display\r\n",
    "\r\n",
    "\r\n",
    "def display_frames_as_gif(frames):\r\n",
    "    \"\"\"\r\n",
    "    Displays a list of frames as a gif, with controls\r\n",
    "    \"\"\"\r\n",
    "    plt.figure(figsize=(frames[0].shape[1] / 72.0, frames[0].shape[0] / 72.0),\r\n",
    "               dpi=72)\r\n",
    "    patch = plt.imshow(frames[0])\r\n",
    "    plt.axis('off')\r\n",
    "\r\n",
    "    def animate(i):\r\n",
    "        patch.set_data(frames[i])\r\n",
    "\r\n",
    "    anim = animation.FuncAnimation(plt.gcf(), animate, frames=len(frames),\r\n",
    "                                   interval=50)\r\n",
    "\r\n",
    "    anim.save('movie_cartpole_DDQN.gif')  # 動画のファイル名と保存です\r\n",
    "    display(display_animation(anim, default_mode='loop'))"
   ],
   "outputs": [],
   "metadata": {}
  },
  {
   "cell_type": "code",
   "execution_count": 6,
   "source": [
    "\r\n",
    "# namedtupleを生成\r\n",
    "from collections import namedtuple\r\n",
    "\r\n",
    "Transition = namedtuple(\r\n",
    "    'Transition', ('state', 'action', 'next_state', 'reward'))"
   ],
   "outputs": [],
   "metadata": {}
  },
  {
   "cell_type": "code",
   "execution_count": 7,
   "source": [
    "# 定数の設定\r\n",
    "ENV = 'CartPole-v0'  # 使用する課題名\r\n",
    "GAMMA = 0.99  # 時間割引率\r\n",
    "MAX_STEPS = 200  # 1試行のstep数\r\n",
    "NUM_EPISODES = 500  # 最大試行回数"
   ],
   "outputs": [],
   "metadata": {}
  },
  {
   "cell_type": "code",
   "execution_count": 8,
   "source": [
    "# 経験を保存するメモリクラスを定義します\r\n",
    "\r\n",
    "\r\n",
    "class ReplayMemory:\r\n",
    "\r\n",
    "    def __init__(self, CAPACITY):\r\n",
    "        self.capacity = CAPACITY  # メモリの最大長さ\r\n",
    "        self.memory = []  # 経験を保存する変数\r\n",
    "        self.index = 0  # 保存するindexを示す変数\r\n",
    "\r\n",
    "    def push(self, state, action, state_next, reward):\r\n",
    "        '''transition = (state, action, state_next, reward)をメモリに保存する'''\r\n",
    "\r\n",
    "        if len(self.memory) < self.capacity:\r\n",
    "            self.memory.append(None)  # メモリが満タンでないときは足す\r\n",
    "\r\n",
    "        # namedtupleのTransitionを使用し、値とフィールド名をペアにして保存します\r\n",
    "        self.memory[self.index] = Transition(state, action, state_next, reward)\r\n",
    "\r\n",
    "        self.index = (self.index + 1) % self.capacity  # 保存するindexを1つずらす\r\n",
    "\r\n",
    "    def sample(self, batch_size):\r\n",
    "        '''batch_size分だけ、ランダムに保存内容を取り出す'''\r\n",
    "        return random.sample(self.memory, batch_size)\r\n",
    "\r\n",
    "    def __len__(self):\r\n",
    "        '''関数lenに対して、現在の変数memoryの長さを返す'''\r\n",
    "        return len(self.memory)"
   ],
   "outputs": [],
   "metadata": {}
  },
  {
   "cell_type": "code",
   "execution_count": 9,
   "source": [
    "# ディープ・ニューラルネットワークの構築\r\n",
    "import torch.nn as nn\r\n",
    "import torch.nn.functional as F\r\n",
    "\r\n",
    "\r\n",
    "class Net(nn.Module):\r\n",
    "\r\n",
    "    def __init__(self, n_in, n_mid, n_out):\r\n",
    "        super(Net, self).__init__()\r\n",
    "        self.fc1 = nn.Linear(n_in, n_mid)\r\n",
    "        self.fc2 = nn.Linear(n_mid, n_mid)\r\n",
    "        self.fc3 = nn.Linear(n_mid, n_out)\r\n",
    "\r\n",
    "    def forward(self, x):\r\n",
    "        h1 = F.relu(self.fc1(x))\r\n",
    "        h2 = F.relu(self.fc2(h1))\r\n",
    "        output = self.fc3(h2)\r\n",
    "        return output"
   ],
   "outputs": [
    {
     "output_type": "error",
     "ename": "OSError",
     "evalue": "[WinError 1455] The paging file is too small for this operation to complete. Error loading \"C:\\Users\\mik09\\miniconda3\\envs\\rl\\lib\\site-packages\\torch\\lib\\cudnn_cnn_infer64_8.dll\" or one of its dependencies.",
     "traceback": [
      "\u001b[1;31m---------------------------------------------------------------------------\u001b[0m",
      "\u001b[1;31mOSError\u001b[0m                                   Traceback (most recent call last)",
      "\u001b[1;32m~\\AppData\\Local\\Temp/ipykernel_25440/2891377302.py\u001b[0m in \u001b[0;36m<module>\u001b[1;34m\u001b[0m\n\u001b[0;32m      1\u001b[0m \u001b[1;31m# ディープ・ニューラルネットワークの構築\u001b[0m\u001b[1;33m\u001b[0m\u001b[1;33m\u001b[0m\u001b[1;33m\u001b[0m\u001b[0m\n\u001b[1;32m----> 2\u001b[1;33m \u001b[1;32mimport\u001b[0m \u001b[0mtorch\u001b[0m\u001b[1;33m.\u001b[0m\u001b[0mnn\u001b[0m \u001b[1;32mas\u001b[0m \u001b[0mnn\u001b[0m\u001b[1;33m\u001b[0m\u001b[1;33m\u001b[0m\u001b[0m\n\u001b[0m\u001b[0;32m      3\u001b[0m \u001b[1;32mimport\u001b[0m \u001b[0mtorch\u001b[0m\u001b[1;33m.\u001b[0m\u001b[0mnn\u001b[0m\u001b[1;33m.\u001b[0m\u001b[0mfunctional\u001b[0m \u001b[1;32mas\u001b[0m \u001b[0mF\u001b[0m\u001b[1;33m\u001b[0m\u001b[1;33m\u001b[0m\u001b[0m\n\u001b[0;32m      4\u001b[0m \u001b[1;33m\u001b[0m\u001b[0m\n\u001b[0;32m      5\u001b[0m \u001b[1;33m\u001b[0m\u001b[0m\n",
      "\u001b[1;32m~\\miniconda3\\envs\\rl\\lib\\site-packages\\torch\\__init__.py\u001b[0m in \u001b[0;36m<module>\u001b[1;34m\u001b[0m\n\u001b[0;32m    122\u001b[0m                 \u001b[0merr\u001b[0m \u001b[1;33m=\u001b[0m \u001b[0mctypes\u001b[0m\u001b[1;33m.\u001b[0m\u001b[0mWinError\u001b[0m\u001b[1;33m(\u001b[0m\u001b[0mlast_error\u001b[0m\u001b[1;33m)\u001b[0m\u001b[1;33m\u001b[0m\u001b[1;33m\u001b[0m\u001b[0m\n\u001b[0;32m    123\u001b[0m                 \u001b[0merr\u001b[0m\u001b[1;33m.\u001b[0m\u001b[0mstrerror\u001b[0m \u001b[1;33m+=\u001b[0m \u001b[1;34mf' Error loading \"{dll}\" or one of its dependencies.'\u001b[0m\u001b[1;33m\u001b[0m\u001b[1;33m\u001b[0m\u001b[0m\n\u001b[1;32m--> 124\u001b[1;33m                 \u001b[1;32mraise\u001b[0m \u001b[0merr\u001b[0m\u001b[1;33m\u001b[0m\u001b[1;33m\u001b[0m\u001b[0m\n\u001b[0m\u001b[0;32m    125\u001b[0m             \u001b[1;32melif\u001b[0m \u001b[0mres\u001b[0m \u001b[1;32mis\u001b[0m \u001b[1;32mnot\u001b[0m \u001b[1;32mNone\u001b[0m\u001b[1;33m:\u001b[0m\u001b[1;33m\u001b[0m\u001b[1;33m\u001b[0m\u001b[0m\n\u001b[0;32m    126\u001b[0m                 \u001b[0mis_loaded\u001b[0m \u001b[1;33m=\u001b[0m \u001b[1;32mTrue\u001b[0m\u001b[1;33m\u001b[0m\u001b[1;33m\u001b[0m\u001b[0m\n",
      "\u001b[1;31mOSError\u001b[0m: [WinError 1455] The paging file is too small for this operation to complete. Error loading \"C:\\Users\\mik09\\miniconda3\\envs\\rl\\lib\\site-packages\\torch\\lib\\cudnn_cnn_infer64_8.dll\" or one of its dependencies."
     ]
    }
   ],
   "metadata": {}
  },
  {
   "cell_type": "code",
   "execution_count": null,
   "source": [],
   "outputs": [],
   "metadata": {}
  }
 ],
 "metadata": {
  "orig_nbformat": 4,
  "language_info": {
   "name": "python",
   "version": "3.9.6",
   "mimetype": "text/x-python",
   "codemirror_mode": {
    "name": "ipython",
    "version": 3
   },
   "pygments_lexer": "ipython3",
   "nbconvert_exporter": "python",
   "file_extension": ".py"
  },
  "kernelspec": {
   "name": "python3",
   "display_name": "Python 3.9.6 64-bit ('rl': conda)"
  },
  "interpreter": {
   "hash": "038d8608cabbe08bfa95b44150dc94e5c00fe384375a362fc4ac8c97693876bc"
  }
 },
 "nbformat": 4,
 "nbformat_minor": 2
}