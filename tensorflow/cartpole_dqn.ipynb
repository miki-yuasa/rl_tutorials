{
 "metadata": {
  "language_info": {
   "codemirror_mode": {
    "name": "ipython",
    "version": 3
   },
   "file_extension": ".py",
   "mimetype": "text/x-python",
   "name": "python",
   "nbconvert_exporter": "python",
   "pygments_lexer": "ipython3",
   "version": "3.9.6"
  },
  "orig_nbformat": 4,
  "kernelspec": {
   "name": "python3",
   "display_name": "Python 3.9.6 64-bit ('rl': conda)"
  },
  "interpreter": {
   "hash": "038d8608cabbe08bfa95b44150dc94e5c00fe384375a362fc4ac8c97693876bc"
  }
 },
 "nbformat": 4,
 "nbformat_minor": 2,
 "cells": [
  {
   "source": [
    "# Installation"
   ],
   "cell_type": "markdown",
   "metadata": {}
  },
  {
   "cell_type": "code",
   "execution_count": 1,
   "metadata": {},
   "outputs": [],
   "source": [
    "from __future__ import absolute_import, division, print_function\n",
    "\n",
    "import base64\n",
    "import imageio\n",
    "import IPython\n",
    "import matplotlib\n",
    "import matplotlib.pyplot as plt\n",
    "import numpy as np\n",
    "import PIL.Image\n",
    "#import pyvirtualdisplay\n",
    "\n",
    "import tensorflow as tf\n",
    "\n",
    "from tf_agents.agents.dqn import dqn_agent\n",
    "from tf_agents.drivers import dynamic_step_driver\n",
    "from tf_agents.environments import suite_gym\n",
    "from tf_agents.environments import tf_py_environment\n",
    "from tf_agents.eval import metric_utils\n",
    "from tf_agents.networks import q_network\n",
    "from tf_agents.policies import random_tf_policy\n",
    "from tf_agents.policies import random_tf_policy\n",
    "from tf_agents.replay_buffers import tf_uniform_replay_buffer\n",
    "from tf_agents.trajectories import trajectory\n",
    "from tf_agents.utils import common"
   ]
  },
  {
   "cell_type": "code",
   "execution_count": 3,
   "metadata": {},
   "outputs": [
    {
     "output_type": "execute_result",
     "data": {
      "text/plain": [
       "'2.6.0'"
      ]
     },
     "metadata": {},
     "execution_count": 3
    }
   ],
   "source": [
    "tf.version.VERSION"
   ]
  },
  {
   "source": [
    "# Hyper Parameters"
   ],
   "cell_type": "markdown",
   "metadata": {}
  },
  {
   "cell_type": "code",
   "execution_count": 3,
   "metadata": {},
   "outputs": [],
   "source": [
    "num_iterations = 20000 # @param {type:\"integer\"}\n",
    "\n",
    "initial_collect_steps = 1000  # @param {type:\"integer\"} \n",
    "collect_steps_per_iteration = 1  # @param {type:\"integer\"}\n",
    "replay_buffer_max_length = 100000  # @param {type:\"integer\"}\n",
    "\n",
    "batch_size = 64  # @param {type:\"integer\"}\n",
    "learning_rate = 1e-3  # @param {type:\"number\"}\n",
    "log_interval = 200  # @param {type:\"integer\"}\n",
    "\n",
    "num_eval_episodes = 10  # @param {type:\"integer\"}\n",
    "eval_interval = 1000  # @param {type:\"integer\"}"
   ]
  },
  {
   "source": [
    "# Environment"
   ],
   "cell_type": "markdown",
   "metadata": {}
  },
  {
   "source": [
    "Set up the environment and check the rendering."
   ],
   "cell_type": "markdown",
   "metadata": {}
  },
  {
   "cell_type": "code",
   "execution_count": 6,
   "metadata": {},
   "outputs": [],
   "source": [
    "env_name = 'CartPole-v0'\n",
    "env = suite_gym.load(env_name)"
   ]
  },
  {
   "cell_type": "code",
   "execution_count": 7,
   "metadata": {},
   "outputs": [
    {
     "output_type": "stream",
     "name": "stderr",
     "text": [
      "Exception ignored in: <function Viewer.__del__ at 0x000001D0F7210EE0>\nTraceback (most recent call last):\n  File \"C:\\Users\\mik09\\miniconda3\\envs\\rl\\lib\\site-packages\\gym\\envs\\classic_control\\rendering.py\", line 185, in __del__\n    self.close()\n  File \"C:\\Users\\mik09\\miniconda3\\envs\\rl\\lib\\site-packages\\gym\\envs\\classic_control\\rendering.py\", line 101, in close\n    self.window.close()\n  File \"C:\\Users\\mik09\\miniconda3\\envs\\rl\\lib\\site-packages\\pyglet\\window\\win32\\__init__.py\", line 319, in close\n    super(Win32Window, self).close()\n  File \"C:\\Users\\mik09\\miniconda3\\envs\\rl\\lib\\site-packages\\pyglet\\window\\__init__.py\", line 848, in close\n    app.windows.remove(self)\n  File \"C:\\Users\\mik09\\miniconda3\\envs\\rl\\lib\\_weakrefset.py\", line 110, in remove\n    self.data.remove(ref(item))\nKeyError: <weakref at 0x000001D0F49C7A90; to 'Win32Window' at 0x000001D0F45AD910>\n"
     ]
    },
    {
     "output_type": "execute_result",
     "data": {
      "text/plain": [
       "<PIL.Image.Image image mode=RGB size=600x400 at 0x1D0F9A5F430>"
      ],
      "image/png": "[encoded data removed]"
     },
     "metadata": {},
     "execution_count": 7
    }
   ],
   "source": [
    "env.reset()\n",
    "PIL.Image.fromarray(env.render(mode='rgb_array'))"
   ]
  },
  {
   "source": [
    "Under this environment:\n",
    "- `observation` is an array of four float values\n",
    "    - Position & speed of the cart\n",
    "    - Angular position & speed of the pole\n",
    "- `reward` is a scalar float\n",
    "- `action` is a scalar integer with two possible values\n",
    "    - 0: move left\n",
    "    - 1: move right"
   ],
   "cell_type": "markdown",
   "metadata": {}
  },
  {
   "cell_type": "code",
   "execution_count": 8,
   "metadata": {},
   "outputs": [
    {
     "output_type": "stream",
     "name": "stdout",
     "text": [
      "Observation Spec:\nBoundedArraySpec(shape=(4,), dtype=dtype('float32'), name='observation', minimum=[-4.8000002e+00 -3.4028235e+38 -4.1887903e-01 -3.4028235e+38], maximum=[4.8000002e+00 3.4028235e+38 4.1887903e-01 3.4028235e+38])\n"
     ]
    }
   ],
   "source": [
    "print('Observation Spec:')\n",
    "print(env.time_step_spec().observation)"
   ]
  },
  {
   "cell_type": "code",
   "execution_count": 9,
   "metadata": {},
   "outputs": [
    {
     "output_type": "stream",
     "name": "stdout",
     "text": [
      "Reward Spec:\nArraySpec(shape=(), dtype=dtype('float32'), name='reward')\n"
     ]
    }
   ],
   "source": [
    "print('Reward Spec:')\n",
    "print(env.time_step_spec().reward)"
   ]
  },
  {
   "cell_type": "code",
   "execution_count": 10,
   "metadata": {},
   "outputs": [
    {
     "output_type": "stream",
     "name": "stdout",
     "text": [
      "Action Spec:\nBoundedArraySpec(shape=(), dtype=dtype('int64'), name='action', minimum=0, maximum=1)\n"
     ]
    }
   ],
   "source": [
    "print('Action Spec:')\n",
    "print(env.action_spec())"
   ]
  },
  {
   "cell_type": "code",
   "execution_count": 11,
   "metadata": {},
   "outputs": [
    {
     "output_type": "stream",
     "name": "stdout",
     "text": [
      "Time step:\nTimeStep(\n{'discount': array(1., dtype=float32),\n 'observation': array([-0.00405622, -0.04002087,  0.01073575,  0.03410491], dtype=float32),\n 'reward': array(0., dtype=float32),\n 'step_type': array(0)})\nNext time step:\nTimeStep(\n{'discount': array(1., dtype=float32),\n 'observation': array([-0.00485664,  0.1549455 ,  0.01141785, -0.25517154], dtype=float32),\n 'reward': array(1., dtype=float32),\n 'step_type': array(1)})\n"
     ]
    }
   ],
   "source": [
    "time_step = env.reset()\n",
    "print('Time step:')\n",
    "print(time_step)\n",
    "\n",
    "action = np.array(1, dtype=np.int32)\n",
    "\n",
    "next_time_step = env.step(action)\n",
    "print('Next time step:')\n",
    "print(next_time_step)"
   ]
  },
  {
   "cell_type": "code",
   "execution_count": 12,
   "metadata": {},
   "outputs": [],
   "source": [
    "train_py_env = suite_gym.load(env_name)\n",
    "eval_py_env = suite_gym.load(env_name)"
   ]
  },
  {
   "cell_type": "code",
   "execution_count": 13,
   "metadata": {},
   "outputs": [],
   "source": [
    "train_env = tf_py_environment.TFPyEnvironment(train_py_env)\n",
    "eval_env = tf_py_environment.TFPyEnvironment(eval_py_env)"
   ]
  },
  {
   "source": [
    "# Agents"
   ],
   "cell_type": "markdown",
   "metadata": {}
  },
  {
   "source": [
    "For this tutorial, DQN is used."
   ],
   "cell_type": "markdown",
   "metadata": {}
  },
  {
   "cell_type": "code",
   "execution_count": 14,
   "metadata": {},
   "outputs": [],
   "source": [
    "fc_layer_params = (100,)\n",
    "\n",
    "q_net = q_network.QNetwork(\n",
    "    train_env.observation_spec(),\n",
    "    train_env.action_spec(),\n",
    "    fc_layer_params=fc_layer_params)"
   ]
  },
  {
   "cell_type": "code",
   "execution_count": 15,
   "metadata": {},
   "outputs": [],
   "source": [
    "optimizer = tf.compat.v1.train.AdamOptimizer(learning_rate=learning_rate)\n",
    "\n",
    "train_step_counter = tf.Variable(0)\n",
    "\n",
    "agent = dqn_agent.DqnAgent(\n",
    "    train_env.time_step_spec(),\n",
    "    train_env.action_spec(),\n",
    "    q_network=q_net,\n",
    "    optimizer=optimizer,\n",
    "    td_errors_loss_fn=common.element_wise_squared_loss,\n",
    "    train_step_counter=train_step_counter)\n",
    "\n",
    "agent.initialize()"
   ]
  },
  {
   "source": [
    "# Policy"
   ],
   "cell_type": "markdown",
   "metadata": {}
  },
  {
   "source": [
    "Plicies define how agents act under an environment.\n",
    "\n",
    "In this tutorial\n",
    "- The desired result is that the pole on the cart does not fall off\n",
    "- The policy returns an action (left or right) every `time_step`\n",
    "\n",
    "The agent has two policies:\n",
    "- `agent.policy`: the main policy used for the evaluation and deployment\n",
    "- `agent.collect_policy`: a supplmental policy for the data collection"
   ],
   "cell_type": "markdown",
   "metadata": {}
  },
  {
   "cell_type": "code",
   "execution_count": 16,
   "metadata": {},
   "outputs": [],
   "source": [
    "eval_policy = agent.policy\n",
    "collect_policy = agent.collect_policy"
   ]
  },
  {
   "source": [
    "A policy can be created irrelevantly to agents."
   ],
   "cell_type": "markdown",
   "metadata": {}
  },
  {
   "cell_type": "code",
   "execution_count": 17,
   "metadata": {},
   "outputs": [],
   "source": [
    "random_policy = random_tf_policy.RandomTFPolicy(train_env.time_step_spec(), train_env.action_spec())"
   ]
  },
  {
   "cell_type": "code",
   "execution_count": 18,
   "metadata": {},
   "outputs": [
    {
     "output_type": "execute_result",
     "data": {
      "text/plain": [
       "PolicyStep(action=<tf.Tensor: shape=(1,), dtype=int64, numpy=array([0], dtype=int64)>, state=(), info=())"
      ]
     },
     "metadata": {},
     "execution_count": 18
    }
   ],
   "source": [
    "example_environment = tf_py_environment.TFPyEnvironment(\n",
    "    suite_gym.load('CartPole-v0'))\n",
    "time_step = example_environment.reset()\n",
    "random_policy.action(time_step)"
   ]
  },
  {
   "source": [
    "# Index and Evaluation\n",
    "\n",
    "The index most used for policy evaluation is the average return"
   ],
   "cell_type": "markdown",
   "metadata": {}
  },
  {
   "cell_type": "code",
   "execution_count": 19,
   "metadata": {},
   "outputs": [],
   "source": [
    "#@test {\"skip\": true}\n",
    "def compute_avg_return(environment, policy, num_episodes=10):\n",
    "\n",
    "  total_return = 0.0\n",
    "  for _ in range(num_episodes):\n",
    "\n",
    "    time_step = environment.reset()\n",
    "    episode_return = 0.0\n",
    "\n",
    "    while not time_step.is_last():\n",
    "      action_step = policy.action(time_step)\n",
    "      time_step = environment.step(action_step.action)\n",
    "      episode_return += time_step.reward\n",
    "    total_return += episode_return\n",
    "\n",
    "  avg_return = total_return / num_episodes\n",
    "  return avg_return.numpy()[0]\n",
    "\n",
    "\n",
    "# See also the metrics module for standard implementations of different metrics.\n",
    "# https://github.com/tensorflow/agents/tree/master/tf_agents/metrics"
   ]
  },
  {
   "cell_type": "code",
   "execution_count": 20,
   "metadata": {},
   "outputs": [
    {
     "output_type": "execute_result",
     "data": {
      "text/plain": [
       "20.0"
      ]
     },
     "metadata": {},
     "execution_count": 20
    }
   ],
   "source": [
    "compute_avg_return(eval_env, random_policy, num_eval_episodes)"
   ]
  },
  {
   "source": [
    "# Replay Buffer"
   ],
   "cell_type": "markdown",
   "metadata": {}
  },
  {
   "cell_type": "code",
   "execution_count": 21,
   "metadata": {},
   "outputs": [],
   "source": [
    "replay_buffer = tf_uniform_replay_buffer.TFUniformReplayBuffer(\n",
    "    data_spec=agent.collect_data_spec,\n",
    "    batch_size=train_env.batch_size,\n",
    "    max_length=replay_buffer_max_length)"
   ]
  },
  {
   "cell_type": "code",
   "execution_count": 22,
   "metadata": {},
   "outputs": [
    {
     "output_type": "execute_result",
     "data": {
      "text/plain": [
       "Trajectory(\n",
       "{'action': BoundedTensorSpec(shape=(), dtype=tf.int64, name='action', minimum=array(0, dtype=int64), maximum=array(1, dtype=int64)),\n",
       " 'discount': BoundedTensorSpec(shape=(), dtype=tf.float32, name='discount', minimum=array(0., dtype=float32), maximum=array(1., dtype=float32)),\n",
       " 'next_step_type': TensorSpec(shape=(), dtype=tf.int32, name='step_type'),\n",
       " 'observation': BoundedTensorSpec(shape=(4,), dtype=tf.float32, name='observation', minimum=array([-4.8000002e+00, -3.4028235e+38, -4.1887903e-01, -3.4028235e+38],\n",
       "      dtype=float32), maximum=array([4.8000002e+00, 3.4028235e+38, 4.1887903e-01, 3.4028235e+38],\n",
       "      dtype=float32)),\n",
       " 'policy_info': (),\n",
       " 'reward': TensorSpec(shape=(), dtype=tf.float32, name='reward'),\n",
       " 'step_type': TensorSpec(shape=(), dtype=tf.int32, name='step_type')})"
      ]
     },
     "metadata": {},
     "execution_count": 22
    }
   ],
   "source": [
    "agent.collect_data_spec"
   ]
  },
  {
   "cell_type": "code",
   "execution_count": 23,
   "metadata": {},
   "outputs": [
    {
     "output_type": "execute_result",
     "data": {
      "text/plain": [
       "('step_type',\n",
       " 'observation',\n",
       " 'action',\n",
       " 'policy_info',\n",
       " 'next_step_type',\n",
       " 'reward',\n",
       " 'discount')"
      ]
     },
     "metadata": {},
     "execution_count": 23
    }
   ],
   "source": [
    "agent.collect_data_spec._fields"
   ]
  },
  {
   "source": [
    "# Data Collection"
   ],
   "cell_type": "markdown",
   "metadata": {}
  },
  {
   "cell_type": "code",
   "execution_count": 24,
   "metadata": {},
   "outputs": [],
   "source": [
    "#@test {\"skip\": true}\n",
    "def collect_step(environment, policy, buffer):\n",
    "  time_step = environment.current_time_step()\n",
    "  action_step = policy.action(time_step)\n",
    "  next_time_step = environment.step(action_step.action)\n",
    "  traj = trajectory.from_transition(time_step, action_step, next_time_step)\n",
    "\n",
    "  # Add trajectory to the replay buffer\n",
    "  buffer.add_batch(traj)\n",
    "\n",
    "def collect_data(env, policy, buffer, steps):\n",
    "  for _ in range(steps):\n",
    "    collect_step(env, policy, buffer)\n",
    "\n",
    "collect_data(train_env, random_policy, replay_buffer, steps=100)\n",
    "\n",
    "# This loop is so common in RL, that we provide standard implementations. \n",
    "# For more details see the drivers module.\n",
    "# https://www.tensorflow.org/agents/api_docs/python/tf_agents/drivers"
   ]
  },
  {
   "cell_type": "code",
   "execution_count": 25,
   "metadata": {},
   "outputs": [
    {
     "output_type": "stream",
     "name": "stdout",
     "text": [
      "WARNING:tensorflow:From C:\\Users\\mik09\\miniconda3\\envs\\rl\\lib\\site-packages\\tensorflow\\python\\data\\experimental\\ops\\counter.py:66: scan (from tensorflow.python.data.experimental.ops.scan_ops) is deprecated and will be removed in a future version.\n",
      "Instructions for updating:\n",
      "Use `tf.data.Dataset.scan(...) instead\n",
      "WARNING:tensorflow:From C:\\Users\\mik09\\miniconda3\\envs\\rl\\lib\\site-packages\\tensorflow\\python\\autograph\\impl\\api.py:382: ReplayBuffer.get_next (from tf_agents.replay_buffers.replay_buffer) is deprecated and will be removed in a future version.\n",
      "Instructions for updating:\n",
      "Use `as_dataset(..., single_deterministic_pass=False) instead.\n"
     ]
    },
    {
     "output_type": "execute_result",
     "data": {
      "text/plain": [
       "(Trajectory(\n",
       " {'action': <tf.Tensor: shape=(), dtype=int64, numpy=1>,\n",
       "  'discount': <tf.Tensor: shape=(), dtype=float32, numpy=1.0>,\n",
       "  'next_step_type': <tf.Tensor: shape=(), dtype=int32, numpy=1>,\n",
       "  'observation': <tf.Tensor: shape=(4,), dtype=float32, numpy=array([-0.14290106, -0.9282144 ,  0.10605735,  1.31442   ], dtype=float32)>,\n",
       "  'policy_info': (),\n",
       "  'reward': <tf.Tensor: shape=(), dtype=float32, numpy=1.0>,\n",
       "  'step_type': <tf.Tensor: shape=(), dtype=int32, numpy=1>}),\n",
       " BufferInfo(ids=<tf.Tensor: shape=(), dtype=int64, numpy=27>, probabilities=<tf.Tensor: shape=(), dtype=float32, numpy=0.01>))"
      ]
     },
     "metadata": {},
     "execution_count": 25
    }
   ],
   "source": [
    "iter(replay_buffer.as_dataset()).next()"
   ]
  },
  {
   "cell_type": "code",
   "execution_count": 26,
   "metadata": {},
   "outputs": [
    {
     "output_type": "execute_result",
     "data": {
      "text/plain": [
       "<PrefetchDataset shapes: (Trajectory(\n",
       "{action: (64, 2),\n",
       " discount: (64, 2),\n",
       " next_step_type: (64, 2),\n",
       " observation: (64, 2, 4),\n",
       " policy_info: (),\n",
       " reward: (64, 2),\n",
       " step_type: (64, 2)}), BufferInfo(ids=(64, 2), probabilities=(64,))), types: (Trajectory(\n",
       "{action: tf.int64,\n",
       " discount: tf.float32,\n",
       " next_step_type: tf.int32,\n",
       " observation: tf.float32,\n",
       " policy_info: (),\n",
       " reward: tf.float32,\n",
       " step_type: tf.int32}), BufferInfo(ids=tf.int64, probabilities=tf.float32))>"
      ]
     },
     "metadata": {},
     "execution_count": 26
    }
   ],
   "source": [
    "# Dataset generates trajectories with shape [Bx2x...]\n",
    "dataset = replay_buffer.as_dataset(\n",
    "    num_parallel_calls=3, \n",
    "    sample_batch_size=batch_size, \n",
    "    num_steps=2).prefetch(3)\n",
    "\n",
    "\n",
    "dataset"
   ]
  },
  {
   "cell_type": "code",
   "execution_count": 27,
   "metadata": {},
   "outputs": [
    {
     "output_type": "stream",
     "name": "stdout",
     "text": [
      "<tensorflow.python.data.ops.iterator_ops.OwnedIterator object at 0x000001D0FD983550>\n"
     ]
    },
    {
     "output_type": "execute_result",
     "data": {
      "text/plain": [
       "(Trajectory(\n",
       " {'action': <tf.Tensor: shape=(64, 2), dtype=int64, numpy=\n",
       " array([[1, 0],\n",
       "        [0, 1],\n",
       "        [1, 0],\n",
       "        [0, 1],\n",
       "        [1, 1],\n",
       "        [0, 0],\n",
       "        [1, 0],\n",
       "        [1, 0],\n",
       "        [0, 0],\n",
       "        [0, 0],\n",
       "        [0, 0],\n",
       "        [1, 0],\n",
       "        [1, 1],\n",
       "        [1, 0],\n",
       "        [1, 0],\n",
       "        [0, 0],\n",
       "        [1, 0],\n",
       "        [1, 1],\n",
       "        [1, 0],\n",
       "        [1, 1],\n",
       "        [1, 1],\n",
       "        [1, 1],\n",
       "        [1, 0],\n",
       "        [0, 1],\n",
       "        [0, 0],\n",
       "        [1, 0],\n",
       "        [0, 1],\n",
       "        [1, 0],\n",
       "        [1, 0],\n",
       "        [1, 0],\n",
       "        [0, 1],\n",
       "        [1, 0],\n",
       "        [0, 1],\n",
       "        [0, 0],\n",
       "        [1, 0],\n",
       "        [1, 0],\n",
       "        [0, 1],\n",
       "        [0, 0],\n",
       "        [0, 1],\n",
       "        [0, 0],\n",
       "        [0, 1],\n",
       "        [0, 0],\n",
       "        [0, 1],\n",
       "        [1, 0],\n",
       "        [1, 0],\n",
       "        [0, 1],\n",
       "        [1, 1],\n",
       "        [1, 1],\n",
       "        [0, 0],\n",
       "        [0, 1],\n",
       "        [1, 0],\n",
       "        [0, 1],\n",
       "        [1, 0],\n",
       "        [1, 1],\n",
       "        [0, 1],\n",
       "        [1, 0],\n",
       "        [0, 1],\n",
       "        [0, 0],\n",
       "        [0, 0],\n",
       "        [0, 0],\n",
       "        [1, 0],\n",
       "        [0, 1],\n",
       "        [1, 0],\n",
       "        [0, 1]], dtype=int64)>,\n",
       "  'discount': <tf.Tensor: shape=(64, 2), dtype=float32, numpy=\n",
       " array([[1., 1.],\n",
       "        [1., 1.],\n",
       "        [1., 1.],\n",
       "        [0., 1.],\n",
       "        [1., 1.],\n",
       "        [1., 1.],\n",
       "        [1., 1.],\n",
       "        [1., 1.],\n",
       "        [1., 1.],\n",
       "        [1., 1.],\n",
       "        [1., 1.],\n",
       "        [1., 1.],\n",
       "        [1., 1.],\n",
       "        [1., 1.],\n",
       "        [1., 1.],\n",
       "        [1., 1.],\n",
       "        [1., 1.],\n",
       "        [1., 1.],\n",
       "        [1., 1.],\n",
       "        [1., 1.],\n",
       "        [1., 0.],\n",
       "        [1., 1.],\n",
       "        [1., 1.],\n",
       "        [1., 1.],\n",
       "        [1., 1.],\n",
       "        [1., 1.],\n",
       "        [1., 1.],\n",
       "        [1., 1.],\n",
       "        [1., 1.],\n",
       "        [1., 1.],\n",
       "        [1., 1.],\n",
       "        [1., 1.],\n",
       "        [1., 1.],\n",
       "        [1., 1.],\n",
       "        [1., 1.],\n",
       "        [1., 0.],\n",
       "        [1., 1.],\n",
       "        [1., 1.],\n",
       "        [1., 1.],\n",
       "        [1., 1.],\n",
       "        [1., 1.],\n",
       "        [1., 1.],\n",
       "        [1., 1.],\n",
       "        [1., 1.],\n",
       "        [1., 1.],\n",
       "        [1., 1.],\n",
       "        [1., 0.],\n",
       "        [1., 1.],\n",
       "        [1., 1.],\n",
       "        [0., 1.],\n",
       "        [1., 1.],\n",
       "        [1., 1.],\n",
       "        [1., 1.],\n",
       "        [1., 1.],\n",
       "        [1., 1.],\n",
       "        [1., 0.],\n",
       "        [0., 1.],\n",
       "        [1., 1.],\n",
       "        [1., 1.],\n",
       "        [1., 1.],\n",
       "        [1., 1.],\n",
       "        [1., 1.],\n",
       "        [1., 1.],\n",
       "        [1., 1.]], dtype=float32)>,\n",
       "  'next_step_type': <tf.Tensor: shape=(64, 2), dtype=int32, numpy=\n",
       " array([[1, 1],\n",
       "        [1, 1],\n",
       "        [1, 1],\n",
       "        [2, 0],\n",
       "        [1, 1],\n",
       "        [1, 1],\n",
       "        [1, 1],\n",
       "        [1, 1],\n",
       "        [1, 1],\n",
       "        [1, 1],\n",
       "        [1, 1],\n",
       "        [1, 1],\n",
       "        [1, 1],\n",
       "        [0, 1],\n",
       "        [1, 1],\n",
       "        [1, 1],\n",
       "        [1, 1],\n",
       "        [1, 1],\n",
       "        [1, 1],\n",
       "        [1, 1],\n",
       "        [1, 2],\n",
       "        [1, 1],\n",
       "        [1, 1],\n",
       "        [1, 1],\n",
       "        [1, 1],\n",
       "        [1, 1],\n",
       "        [1, 1],\n",
       "        [1, 1],\n",
       "        [1, 1],\n",
       "        [1, 1],\n",
       "        [1, 1],\n",
       "        [1, 1],\n",
       "        [1, 1],\n",
       "        [1, 1],\n",
       "        [1, 1],\n",
       "        [1, 2],\n",
       "        [1, 1],\n",
       "        [1, 1],\n",
       "        [1, 1],\n",
       "        [1, 1],\n",
       "        [1, 1],\n",
       "        [1, 1],\n",
       "        [1, 1],\n",
       "        [0, 1],\n",
       "        [1, 1],\n",
       "        [1, 1],\n",
       "        [1, 2],\n",
       "        [1, 1],\n",
       "        [1, 1],\n",
       "        [2, 0],\n",
       "        [1, 1],\n",
       "        [1, 1],\n",
       "        [1, 1],\n",
       "        [1, 1],\n",
       "        [1, 1],\n",
       "        [1, 2],\n",
       "        [2, 0],\n",
       "        [1, 1],\n",
       "        [1, 1],\n",
       "        [1, 1],\n",
       "        [1, 1],\n",
       "        [1, 1],\n",
       "        [1, 1],\n",
       "        [1, 1]])>,\n",
       "  'observation': <tf.Tensor: shape=(64, 2, 4), dtype=float32, numpy=\n",
       " array([[[-0.00966929, -0.15409009, -0.05142454,  0.27871656],\n",
       "         [-0.01275109,  0.04172631, -0.04585021, -0.02973191]],\n",
       " \n",
       "        [[ 0.10254765,  0.24829523, -0.12895562, -0.711983  ],\n",
       "         [ 0.10751355,  0.05517235, -0.14319527, -0.46251202]],\n",
       " \n",
       "        [[ 0.05923244,  0.42408112, -0.02326903, -0.57295126],\n",
       "         [ 0.06771407,  0.61952144, -0.03472806, -0.8728729 ]],\n",
       " \n",
       "        [[-0.16158552, -0.81700706,  0.18484583,  1.4257864 ],\n",
       "         [-0.17792568, -1.0138688 ,  0.21336156,  1.7700844 ]],\n",
       " \n",
       "        [[-0.07137486, -0.7350057 ,  0.13408516,  1.3097922 ],\n",
       "         [-0.08607497, -0.54181266,  0.16028102,  1.0619067 ]],\n",
       " \n",
       "        [[-0.00747985, -0.35265815,  0.02804542,  0.6322972 ],\n",
       "         [-0.01453301, -0.54815996,  0.04069136,  0.9336788 ]],\n",
       " \n",
       "        [[ 0.09321295,  0.03638001, -0.07032184, -0.04368026],\n",
       "         [ 0.09394056,  0.2324362 , -0.07119545, -0.35769528]],\n",
       " \n",
       "        [[ 0.09321295,  0.03638001, -0.07032184, -0.04368026],\n",
       "         [ 0.09394056,  0.2324362 , -0.07119545, -0.35769528]],\n",
       " \n",
       "        [[-0.14071576, -0.42333397,  0.14808604,  0.7513063 ],\n",
       "         [-0.14918245, -0.620154  ,  0.16311216,  1.0866835 ]],\n",
       " \n",
       "        [[ 0.10486107, -0.15310761, -0.09097214,  0.12536994],\n",
       "         [ 0.10179891, -0.34681648, -0.08846474,  0.3880228 ]],\n",
       " \n",
       "        [[ 0.09935717,  0.2345473 , -0.08011504, -0.4046216 ],\n",
       "         [ 0.10404812,  0.04064749, -0.08820748, -0.13823342]],\n",
       " \n",
       "        [[-0.01594703,  0.03893574, -0.0466141 ,  0.03189313],\n",
       "         [-0.01516832,  0.23469408, -0.04597623, -0.27512503]],\n",
       " \n",
       "        [[ 0.08405101, -0.34443095, -0.06767319,  0.33458957],\n",
       "         [ 0.07716239, -0.1484144 , -0.0609814 ,  0.02135701]],\n",
       " \n",
       "        [[-0.10703184,  0.03498323,  0.20984884,  0.36860225],\n",
       "         [-0.01232841, -0.02649478, -0.03727449,  0.01303338]],\n",
       " \n",
       "        [[-0.03496676, -0.72920966, -0.02843134,  0.93101263],\n",
       "         [-0.04955095, -0.5337158 , -0.00981109,  0.62953264]],\n",
       " \n",
       "        [[-0.01454828, -0.14593908, -0.05093366,  0.09862904],\n",
       "         [-0.01746707, -0.34029546, -0.04896108,  0.3748175 ]],\n",
       " \n",
       "        [[-0.01053889, -0.14871046, -0.05017635,  0.1598472 ],\n",
       "         [-0.0135131 ,  0.04709259, -0.0469794 , -0.1482334 ]],\n",
       " \n",
       "        [[-0.176157  , -0.931186  ,  0.15348028,  1.3878491 ],\n",
       "         [-0.1947807 , -0.73827344,  0.18123727,  1.146828  ]],\n",
       " \n",
       "        [[-0.06022527, -0.72869945,  0.00277956,  0.9191097 ],\n",
       "         [-0.07479925, -0.53361523,  0.02116176,  0.6273016 ]],\n",
       " \n",
       "        [[ 0.0741941 ,  0.04752666, -0.06055426, -0.2899257 ],\n",
       "         [ 0.07514464,  0.24345747, -0.06635278, -0.6010753 ]],\n",
       " \n",
       "        [[-0.09691122, -0.3491337 ,  0.18151915,  0.8235139 ],\n",
       "         [-0.1038939 , -0.15689716,  0.19798942,  0.5929706 ]],\n",
       " \n",
       "        [[ 0.07716239, -0.1484144 , -0.0609814 ,  0.02135701],\n",
       "         [ 0.0741941 ,  0.04752666, -0.06055426, -0.2899257 ]],\n",
       " \n",
       "        [[ 0.08880263,  0.24546246, -0.09665225, -0.64684093],\n",
       "         [ 0.09371188,  0.44178876, -0.10958907, -0.9683275 ]],\n",
       " \n",
       "        [[-0.01275109,  0.04172631, -0.04585021, -0.02973191],\n",
       "         [-0.01191657, -0.15270916, -0.04644484,  0.24813953]],\n",
       " \n",
       "        [[ 0.09935717,  0.2345473 , -0.08011504, -0.4046216 ],\n",
       "         [ 0.10404812,  0.04064749, -0.08820748, -0.13823342]],\n",
       " \n",
       "        [[-0.00845025, -0.15012664, -0.0516519 ,  0.19114846],\n",
       "         [-0.01145278,  0.04569472, -0.04782894, -0.11737075]],\n",
       " \n",
       "        [[ 0.09394056,  0.2324362 , -0.07119545, -0.35769528],\n",
       "         [ 0.09858928,  0.03839482, -0.07834936, -0.08828435]],\n",
       " \n",
       "        [[ 0.05923244,  0.42408112, -0.02326903, -0.57295126],\n",
       "         [ 0.06771407,  0.61952144, -0.03472806, -0.8728729 ]],\n",
       " \n",
       "        [[-0.00986713, -0.535876  ,  0.02771748,  0.91923124],\n",
       "         [-0.02058464, -0.34113944,  0.04610211,  0.6353865 ]],\n",
       " \n",
       "        [[-0.01594703,  0.03893574, -0.0466141 ,  0.03189313],\n",
       "         [-0.01516832,  0.23469408, -0.04597623, -0.27512503]],\n",
       " \n",
       "        [[-0.09935915, -0.41754648,  0.08348962,  0.61806446],\n",
       "         [-0.10771008, -0.6137293 ,  0.09585091,  0.9358312 ]],\n",
       " \n",
       "        [[-0.00845025, -0.15012664, -0.0516519 ,  0.19114846],\n",
       "         [-0.01145278,  0.04569472, -0.04782894, -0.11737075]],\n",
       " \n",
       "        [[-0.01275109,  0.04172631, -0.04585021, -0.02973191],\n",
       "         [-0.01191657, -0.15270916, -0.04644484,  0.24813953]],\n",
       " \n",
       "        [[-0.01410987,  0.23873568, -0.04265853, -0.36430067],\n",
       "         [-0.00933515,  0.04424513, -0.04994454, -0.08536804]],\n",
       " \n",
       "        [[-0.00845025, -0.15012664, -0.0516519 ,  0.19114846],\n",
       "         [-0.01145278,  0.04569472, -0.04782894, -0.11737075]],\n",
       " \n",
       "        [[-0.1947807 , -0.73827344,  0.18123727,  1.146828  ],\n",
       "         [-0.20954618, -0.54592013,  0.20417382,  0.91601634]],\n",
       " \n",
       "        [[-0.01145278,  0.04569472, -0.04782894, -0.11737075],\n",
       "         [-0.01053889, -0.14871046, -0.05017635,  0.1598472 ]],\n",
       " \n",
       "        [[-0.04037234, -0.54949516,  0.08414225,  0.96535516],\n",
       "         [-0.05136224, -0.7456404 ,  0.10344935,  1.2832407 ]],\n",
       " \n",
       "        [[-0.11998466, -0.42002165,  0.11456753,  0.67474043],\n",
       "         [-0.1283851 , -0.61653364,  0.12806234,  1.0011852 ]],\n",
       " \n",
       "        [[ 0.09935717,  0.2345473 , -0.08011504, -0.4046216 ],\n",
       "         [ 0.10404812,  0.04064749, -0.08820748, -0.13823342]],\n",
       " \n",
       "        [[ 0.10179891, -0.34681648, -0.08846474,  0.3880228 ],\n",
       "         [ 0.09486259, -0.54057866, -0.08070429,  0.65155476]],\n",
       " \n",
       "        [[-0.04037234, -0.54949516,  0.08414225,  0.96535516],\n",
       "         [-0.05136224, -0.7456404 ,  0.10344935,  1.2832407 ]],\n",
       " \n",
       "        [[-0.01275109,  0.04172631, -0.04585021, -0.02973191],\n",
       "         [-0.01191657, -0.15270916, -0.04644484,  0.24813953]],\n",
       " \n",
       "        [[-0.17792568, -1.0138688 ,  0.21336156,  1.7700844 ],\n",
       "         [-0.00509856,  0.03817428,  0.02071041,  0.03380286]],\n",
       " \n",
       "        [[-0.01594703,  0.03893574, -0.0466141 ,  0.03189313],\n",
       "         [-0.01516832,  0.23469408, -0.04597623, -0.27512503]],\n",
       " \n",
       "        [[-0.11998466, -0.42002165,  0.11456753,  0.67474043],\n",
       "         [-0.1283851 , -0.61653364,  0.12806234,  1.0011852 ]],\n",
       " \n",
       "        [[ 0.11365694,  0.44884524, -0.16837917, -1.1331766 ],\n",
       "         [ 0.12263384,  0.6457221 , -0.1910427 , -1.4735852 ]],\n",
       " \n",
       "        [[-0.176157  , -0.931186  ,  0.15348028,  1.3878491 ],\n",
       "         [-0.1947807 , -0.73827344,  0.18123727,  1.146828  ]],\n",
       " \n",
       "        [[-0.01285831, -0.22106288, -0.03701382,  0.29372665],\n",
       "         [-0.01727957, -0.41563812, -0.03113929,  0.57451   ]],\n",
       " \n",
       "        [[-0.16158552, -0.81700706,  0.18484583,  1.4257864 ],\n",
       "         [-0.17792568, -1.0138688 ,  0.21336156,  1.7700844 ]],\n",
       " \n",
       "        [[-0.01594703,  0.03893574, -0.0466141 ,  0.03189313],\n",
       "         [-0.01516832,  0.23469408, -0.04597623, -0.27512503]],\n",
       " \n",
       "        [[ 0.09394056,  0.2324362 , -0.07119545, -0.35769528],\n",
       "         [ 0.09858928,  0.03839482, -0.07834936, -0.08828435]],\n",
       " \n",
       "        [[-0.08712478, -0.6117183 ,  0.06570179,  0.88939136],\n",
       "         [-0.09935915, -0.41754648,  0.08348962,  0.61806446]],\n",
       " \n",
       "        [[-0.05279962, -0.9287621 ,  0.10271014,  1.5687513 ],\n",
       "         [-0.07137486, -0.7350057 ,  0.13408516,  1.3097922 ]],\n",
       " \n",
       "        [[ 0.08001379,  0.4394418 , -0.07837428, -0.9138983 ],\n",
       "         [ 0.08880263,  0.24546246, -0.09665225, -0.64684093]],\n",
       " \n",
       "        [[-0.1947807 , -0.73827344,  0.18123727,  1.146828  ],\n",
       "         [-0.20954618, -0.54592013,  0.20417382,  0.91601634]],\n",
       " \n",
       "        [[-0.20954618, -0.54592013,  0.20417382,  0.91601634],\n",
       "         [-0.22046459, -0.7431303 ,  0.22249416,  1.2652981 ]],\n",
       " \n",
       "        [[-0.11073958, -0.34001857,  0.06513268,  0.36888522],\n",
       "         [-0.11753995, -0.5360026 ,  0.07251038,  0.68137336]],\n",
       " \n",
       "        [[-0.00509856,  0.03817428,  0.02071041,  0.03380286],\n",
       "         [-0.00433508, -0.15723845,  0.02138647,  0.33294752]],\n",
       " \n",
       "        [[-0.11753995, -0.5360026 ,  0.07251038,  0.68137336],\n",
       "         [-0.12826   , -0.7320527 ,  0.08613785,  0.99597514]],\n",
       " \n",
       "        [[-0.00966929, -0.15409009, -0.05142454,  0.27871656],\n",
       "         [-0.01275109,  0.04172631, -0.04585021, -0.02973191]],\n",
       " \n",
       "        [[-0.03779853, -0.4149259 , -0.00250463,  0.5584268 ],\n",
       "         [-0.04609705, -0.6100126 ,  0.0086639 ,  0.85031956]],\n",
       " \n",
       "        [[-0.01497075,  0.04304426, -0.04148205, -0.05882382],\n",
       "         [-0.01410987,  0.23873568, -0.04265853, -0.36430067]],\n",
       " \n",
       "        [[-0.0582973 , -0.4150099 ,  0.0256703 ,  0.5603736 ],\n",
       "         [-0.0665975 , -0.6104825 ,  0.03687777,  0.8610322 ]]],\n",
       "       dtype=float32)>,\n",
       "  'policy_info': (),\n",
       "  'reward': <tf.Tensor: shape=(64, 2), dtype=float32, numpy=\n",
       " array([[1., 1.],\n",
       "        [1., 1.],\n",
       "        [1., 1.],\n",
       "        [1., 0.],\n",
       "        [1., 1.],\n",
       "        [1., 1.],\n",
       "        [1., 1.],\n",
       "        [1., 1.],\n",
       "        [1., 1.],\n",
       "        [1., 1.],\n",
       "        [1., 1.],\n",
       "        [1., 1.],\n",
       "        [1., 1.],\n",
       "        [0., 1.],\n",
       "        [1., 1.],\n",
       "        [1., 1.],\n",
       "        [1., 1.],\n",
       "        [1., 1.],\n",
       "        [1., 1.],\n",
       "        [1., 1.],\n",
       "        [1., 1.],\n",
       "        [1., 1.],\n",
       "        [1., 1.],\n",
       "        [1., 1.],\n",
       "        [1., 1.],\n",
       "        [1., 1.],\n",
       "        [1., 1.],\n",
       "        [1., 1.],\n",
       "        [1., 1.],\n",
       "        [1., 1.],\n",
       "        [1., 1.],\n",
       "        [1., 1.],\n",
       "        [1., 1.],\n",
       "        [1., 1.],\n",
       "        [1., 1.],\n",
       "        [1., 1.],\n",
       "        [1., 1.],\n",
       "        [1., 1.],\n",
       "        [1., 1.],\n",
       "        [1., 1.],\n",
       "        [1., 1.],\n",
       "        [1., 1.],\n",
       "        [1., 1.],\n",
       "        [0., 1.],\n",
       "        [1., 1.],\n",
       "        [1., 1.],\n",
       "        [1., 1.],\n",
       "        [1., 1.],\n",
       "        [1., 1.],\n",
       "        [1., 0.],\n",
       "        [1., 1.],\n",
       "        [1., 1.],\n",
       "        [1., 1.],\n",
       "        [1., 1.],\n",
       "        [1., 1.],\n",
       "        [1., 1.],\n",
       "        [1., 0.],\n",
       "        [1., 1.],\n",
       "        [1., 1.],\n",
       "        [1., 1.],\n",
       "        [1., 1.],\n",
       "        [1., 1.],\n",
       "        [1., 1.],\n",
       "        [1., 1.]], dtype=float32)>,\n",
       "  'step_type': <tf.Tensor: shape=(64, 2), dtype=int32, numpy=\n",
       " array([[1, 1],\n",
       "        [1, 1],\n",
       "        [1, 1],\n",
       "        [1, 2],\n",
       "        [1, 1],\n",
       "        [1, 1],\n",
       "        [1, 1],\n",
       "        [1, 1],\n",
       "        [1, 1],\n",
       "        [1, 1],\n",
       "        [1, 1],\n",
       "        [0, 1],\n",
       "        [1, 1],\n",
       "        [2, 0],\n",
       "        [1, 1],\n",
       "        [1, 1],\n",
       "        [1, 1],\n",
       "        [1, 1],\n",
       "        [1, 1],\n",
       "        [1, 1],\n",
       "        [1, 1],\n",
       "        [1, 1],\n",
       "        [1, 1],\n",
       "        [1, 1],\n",
       "        [1, 1],\n",
       "        [1, 1],\n",
       "        [1, 1],\n",
       "        [1, 1],\n",
       "        [1, 1],\n",
       "        [0, 1],\n",
       "        [1, 1],\n",
       "        [1, 1],\n",
       "        [1, 1],\n",
       "        [1, 1],\n",
       "        [1, 1],\n",
       "        [1, 1],\n",
       "        [1, 1],\n",
       "        [1, 1],\n",
       "        [1, 1],\n",
       "        [1, 1],\n",
       "        [1, 1],\n",
       "        [1, 1],\n",
       "        [1, 1],\n",
       "        [2, 0],\n",
       "        [0, 1],\n",
       "        [1, 1],\n",
       "        [1, 1],\n",
       "        [1, 1],\n",
       "        [1, 1],\n",
       "        [1, 2],\n",
       "        [0, 1],\n",
       "        [1, 1],\n",
       "        [1, 1],\n",
       "        [1, 1],\n",
       "        [1, 1],\n",
       "        [1, 1],\n",
       "        [1, 2],\n",
       "        [1, 1],\n",
       "        [0, 1],\n",
       "        [1, 1],\n",
       "        [1, 1],\n",
       "        [1, 1],\n",
       "        [1, 1],\n",
       "        [1, 1]])>}),\n",
       " BufferInfo(ids=<tf.Tensor: shape=(64, 2), dtype=int64, numpy=\n",
       " array([[ 3,  4],\n",
       "        [56, 57],\n",
       "        [37, 38],\n",
       "        [91, 92],\n",
       "        [70, 71],\n",
       "        [95, 96],\n",
       "        [41, 42],\n",
       "        [41, 42],\n",
       "        [89, 90],\n",
       "        [46, 47],\n",
       "        [44, 45],\n",
       "        [ 0,  1],\n",
       "        [49, 50],\n",
       "        [74, 75],\n",
       "        [18, 19],\n",
       "        [15, 16],\n",
       "        [11, 12],\n",
       "        [29, 30],\n",
       "        [20, 21],\n",
       "        [51, 52],\n",
       "        [72, 73],\n",
       "        [50, 51],\n",
       "        [54, 55],\n",
       "        [ 4,  5],\n",
       "        [44, 45],\n",
       "        [ 9, 10],\n",
       "        [42, 43],\n",
       "        [37, 38],\n",
       "        [65, 66],\n",
       "        [ 0,  1],\n",
       "        [85, 86],\n",
       "        [ 9, 10],\n",
       "        [ 4,  5],\n",
       "        [ 7,  8],\n",
       "        [ 9, 10],\n",
       "        [30, 31],\n",
       "        [10, 11],\n",
       "        [98, 99],\n",
       "        [87, 88],\n",
       "        [44, 45],\n",
       "        [47, 48],\n",
       "        [98, 99],\n",
       "        [ 4,  5],\n",
       "        [92, 93],\n",
       "        [ 0,  1],\n",
       "        [87, 88],\n",
       "        [59, 60],\n",
       "        [29, 30],\n",
       "        [76, 77],\n",
       "        [91, 92],\n",
       "        [ 0,  1],\n",
       "        [42, 43],\n",
       "        [84, 85],\n",
       "        [69, 70],\n",
       "        [53, 54],\n",
       "        [30, 31],\n",
       "        [31, 32],\n",
       "        [24, 25],\n",
       "        [93, 94],\n",
       "        [25, 26],\n",
       "        [ 3,  4],\n",
       "        [79, 80],\n",
       "        [ 6,  7],\n",
       "        [81, 82]], dtype=int64)>, probabilities=<tf.Tensor: shape=(64,), dtype=float32, numpy=\n",
       " array([0.01010101, 0.01010101, 0.01010101, 0.01010101, 0.01010101,\n",
       "        0.01010101, 0.01010101, 0.01010101, 0.01010101, 0.01010101,\n",
       "        0.01010101, 0.01010101, 0.01010101, 0.01010101, 0.01010101,\n",
       "        0.01010101, 0.01010101, 0.01010101, 0.01010101, 0.01010101,\n",
       "        0.01010101, 0.01010101, 0.01010101, 0.01010101, 0.01010101,\n",
       "        0.01010101, 0.01010101, 0.01010101, 0.01010101, 0.01010101,\n",
       "        0.01010101, 0.01010101, 0.01010101, 0.01010101, 0.01010101,\n",
       "        0.01010101, 0.01010101, 0.01010101, 0.01010101, 0.01010101,\n",
       "        0.01010101, 0.01010101, 0.01010101, 0.01010101, 0.01010101,\n",
       "        0.01010101, 0.01010101, 0.01010101, 0.01010101, 0.01010101,\n",
       "        0.01010101, 0.01010101, 0.01010101, 0.01010101, 0.01010101,\n",
       "        0.01010101, 0.01010101, 0.01010101, 0.01010101, 0.01010101,\n",
       "        0.01010101, 0.01010101, 0.01010101, 0.01010101], dtype=float32)>))"
      ]
     },
     "metadata": {},
     "execution_count": 27
    }
   ],
   "source": [
    "iterator = iter(dataset)\n",
    "\n",
    "print(iterator)\n",
    "\n",
    "iterator.next()"
   ]
  },
  {
   "source": [
    "# Training Agents"
   ],
   "cell_type": "markdown",
   "metadata": {}
  },
  {
   "cell_type": "code",
   "execution_count": 28,
   "metadata": {},
   "outputs": [
    {
     "output_type": "stream",
     "name": "stdout",
     "text": [
      "WARNING:tensorflow:From C:\\Users\\mik09\\miniconda3\\envs\\rl\\lib\\site-packages\\tensorflow\\python\\util\\dispatch.py:206: calling foldr_v2 (from tensorflow.python.ops.functional_ops) with back_prop=False is deprecated and will be removed in a future version.\n",
      "Instructions for updating:\n",
      "back_prop=False is deprecated. Consider using tf.stop_gradient instead.\n",
      "Instead of:\n",
      "results = tf.foldr(fn, elems, back_prop=False)\n",
      "Use:\n",
      "results = tf.nest.map_structure(tf.stop_gradient, tf.foldr(fn, elems))\n",
      "step = 200: loss = 17.552392959594727\n",
      "step = 400: loss = 23.647720336914062\n",
      "step = 600: loss = 136.2841796875\n",
      "step = 800: loss = 77.268798828125\n",
      "step = 1000: loss = 88.36572265625\n",
      "step = 1000: Average Return = 19.299999237060547\n",
      "step = 1200: loss = 127.10934448242188\n",
      "step = 1400: loss = 24.3792667388916\n",
      "step = 1600: loss = 33.42654800415039\n",
      "step = 1800: loss = 106.9428939819336\n",
      "step = 2000: loss = 7.066074371337891\n",
      "step = 2000: Average Return = 18.0\n",
      "step = 2200: loss = 9.041674613952637\n",
      "step = 2400: loss = 58.367698669433594\n",
      "step = 2600: loss = 37.3812255859375\n",
      "step = 2800: loss = 6.207762718200684\n",
      "step = 3000: loss = 2.364541530609131\n",
      "step = 3000: Average Return = 20.0\n",
      "step = 3200: loss = 19.19954490661621\n",
      "step = 3400: loss = 10.140750885009766\n",
      "step = 3600: loss = 49.11671829223633\n",
      "step = 3800: loss = 35.03125762939453\n",
      "step = 4000: loss = 7.325066566467285\n",
      "step = 4000: Average Return = 44.900001525878906\n",
      "step = 4200: loss = 16.433473587036133\n",
      "step = 4400: loss = 32.07541275024414\n",
      "step = 4600: loss = 33.52232360839844\n",
      "step = 4800: loss = 49.732845306396484\n",
      "step = 5000: loss = 37.39215850830078\n",
      "step = 5000: Average Return = 37.400001525878906\n",
      "step = 5200: loss = 10.284042358398438\n",
      "step = 5400: loss = 3.853515148162842\n",
      "step = 5600: loss = 51.29625701904297\n",
      "step = 5800: loss = 33.94873809814453\n",
      "step = 6000: loss = 37.634437561035156\n",
      "step = 6000: Average Return = 57.599998474121094\n",
      "step = 6200: loss = 32.741729736328125\n",
      "step = 6400: loss = 147.19700622558594\n",
      "step = 6600: loss = 45.996192932128906\n",
      "step = 6800: loss = 41.337486267089844\n",
      "step = 7000: loss = 10.754793167114258\n",
      "step = 7000: Average Return = 92.5999984741211\n",
      "step = 7200: loss = 66.04426574707031\n",
      "step = 7400: loss = 28.206398010253906\n",
      "step = 7600: loss = 105.83578491210938\n",
      "step = 7800: loss = 7.6712260246276855\n",
      "step = 8000: loss = 5.15310525894165\n",
      "step = 8000: Average Return = 135.89999389648438\n",
      "step = 8200: loss = 87.83428955078125\n",
      "step = 8400: loss = 5.861249923706055\n",
      "step = 8600: loss = 138.2021942138672\n",
      "step = 8800: loss = 39.150672912597656\n",
      "step = 9000: loss = 31.064510345458984\n",
      "step = 9000: Average Return = 154.89999389648438\n",
      "step = 9200: loss = 8.059449195861816\n",
      "step = 9400: loss = 164.370849609375\n",
      "step = 9600: loss = 30.788654327392578\n",
      "step = 9800: loss = 168.61026000976562\n",
      "step = 10000: loss = 36.54646682739258\n",
      "step = 10000: Average Return = 199.60000610351562\n",
      "step = 10200: loss = 96.13603973388672\n",
      "step = 10400: loss = 54.485164642333984\n",
      "step = 10600: loss = 7.756631851196289\n",
      "step = 10800: loss = 10.426034927368164\n",
      "step = 11000: loss = 11.175027847290039\n",
      "step = 11000: Average Return = 200.0\n",
      "step = 11200: loss = 6.513358116149902\n",
      "step = 11400: loss = 10.565382957458496\n",
      "step = 11600: loss = 11.160303115844727\n",
      "step = 11800: loss = 329.8675842285156\n",
      "step = 12000: loss = 198.07257080078125\n",
      "step = 12000: Average Return = 200.0\n",
      "step = 12200: loss = 9.057601928710938\n",
      "step = 12400: loss = 432.81298828125\n",
      "step = 12600: loss = 16.89371681213379\n",
      "step = 12800: loss = 139.9337921142578\n",
      "step = 13000: loss = 438.34014892578125\n",
      "step = 13000: Average Return = 200.0\n",
      "step = 13200: loss = 335.846923828125\n",
      "step = 13400: loss = 257.7664489746094\n",
      "step = 13600: loss = 172.23190307617188\n",
      "step = 13800: loss = 17.165679931640625\n",
      "step = 14000: loss = 60.15738296508789\n",
      "step = 14000: Average Return = 200.0\n",
      "step = 14200: loss = 241.45558166503906\n",
      "step = 14400: loss = 208.65040588378906\n",
      "step = 14600: loss = 109.24266052246094\n",
      "step = 14800: loss = 12.45114517211914\n",
      "step = 15000: loss = 236.7596435546875\n",
      "step = 15000: Average Return = 199.1999969482422\n",
      "step = 15200: loss = 209.93170166015625\n",
      "step = 15400: loss = 238.95535278320312\n",
      "step = 15600: loss = 35.838775634765625\n",
      "step = 15800: loss = 17.878707885742188\n",
      "step = 16000: loss = 309.6252746582031\n",
      "step = 16000: Average Return = 200.0\n",
      "step = 16200: loss = 557.3961181640625\n",
      "step = 16400: loss = 324.3682861328125\n",
      "step = 16600: loss = 145.44534301757812\n",
      "step = 16800: loss = 25.721412658691406\n",
      "step = 17000: loss = 33.86621856689453\n",
      "step = 17000: Average Return = 200.0\n",
      "step = 17200: loss = 351.6931457519531\n",
      "step = 17400: loss = 121.654296875\n",
      "step = 17600: loss = 37.685577392578125\n",
      "step = 17800: loss = 22.049789428710938\n",
      "step = 18000: loss = 29.165306091308594\n",
      "step = 18000: Average Return = 200.0\n",
      "step = 18200: loss = 1349.398681640625\n",
      "step = 18400: loss = 1354.403564453125\n",
      "step = 18600: loss = 3339.1396484375\n",
      "step = 18800: loss = 1503.216552734375\n",
      "step = 19000: loss = 26.549543380737305\n",
      "step = 19000: Average Return = 200.0\n",
      "step = 19200: loss = 2547.50341796875\n",
      "step = 19400: loss = 42.48871994018555\n",
      "step = 19600: loss = 697.9146728515625\n",
      "step = 19800: loss = 30.25171661376953\n",
      "step = 20000: loss = 54.556297302246094\n",
      "step = 20000: Average Return = 200.0\n"
     ]
    }
   ],
   "source": [
    "#@test {\"skip\": true}\n",
    "try:\n",
    "  %%time\n",
    "except:\n",
    "  pass\n",
    "\n",
    "# (Optional) Optimize by wrapping some of the code in a graph using TF function.\n",
    "agent.train = common.function(agent.train)\n",
    "# Reset the train step\n",
    "agent.train_step_counter.assign(0)\n",
    "\n",
    "# Evaluate the agent's policy once before training.\n",
    "avg_return = compute_avg_return(eval_env, agent.policy, num_eval_episodes)\n",
    "returns = [avg_return]\n",
    "\n",
    "for _ in range(num_iterations):\n",
    "\n",
    "  # Collect a few steps using collect_policy and save to the replay buffer.\n",
    "  for _ in range(collect_steps_per_iteration):\n",
    "    collect_step(train_env, agent.collect_policy, replay_buffer)\n",
    "\n",
    "  # Sample a batch of data from the buffer and update the agent's network.\n",
    "  experience, unused_info = next(iterator)\n",
    "  train_loss = agent.train(experience).loss\n",
    "\n",
    "  step = agent.train_step_counter.numpy()\n",
    "\n",
    "  if step % log_interval == 0:\n",
    "    print('step = {0}: loss = {1}'.format(step, train_loss))\n",
    "\n",
    "  if step % eval_interval == 0:\n",
    "    avg_return = compute_avg_return(eval_env, agent.policy, num_eval_episodes)\n",
    "    print('step = {0}: Average Return = {1}'.format(step, avg_return))\n",
    "    returns.append(avg_return)"
   ]
  },
  {
   "source": [
    "# Visualization\n",
    "## Plotting"
   ],
   "cell_type": "markdown",
   "metadata": {}
  },
  {
   "cell_type": "code",
   "execution_count": 29,
   "metadata": {},
   "outputs": [
    {
     "output_type": "display_data",
     "data": {
      "text/plain": "<Figure size 432x288 with 1 Axes>",
      "image/svg+xml": "<?xml version=\"1.0\" encoding=\"utf-8\" standalone=\"no\"?>\r\n<!DOCTYPE svg PUBLIC \"-//W3C//DTD SVG 1.1//EN\"\r\n  \"http://www.w3.org/Graphics/SVG/1.1/DTD/svg11.dtd\">\r\n<svg height=\"265.995469pt\" version=\"1.1\" viewBox=\"0 0 389.653693 265.995469\" width=\"389.653693pt\" xmlns=\"http://www.w3.org/2000/svg\" xmlns:xlink=\"http://www.w3.org/1999/xlink\">\r\n <metadata>\r\n  <rdf:RDF xmlns:cc=\"http://creativecommons.org/ns#\" xmlns:dc=\"http://purl.org/dc/elements/1.1/\" xmlns:rdf=\"http://www.w3.org/1999/02/22-rdf-syntax-ns#\">\r\n   <cc:Work>\r\n    <dc:type rdf:resource=\"http://purl.org/dc/dcmitype/StillImage\"/>\r\n    <dc:date>2021-08-27T13:30:10.934476</dc:date>\r\n    <dc:format>image/svg+xml</dc:format>\r\n    <dc:creator>\r\n     <cc:Agent>\r\n      <dc:title>Matplotlib v3.4.3, https://matplotlib.org/</dc:title>\r\n     </cc:Agent>\r\n    </dc:creator>\r\n   </cc:Work>\r\n  </rdf:RDF>\r\n </metadata>\r\n <defs>\r\n  <style type=\"text/css\">*{stroke-linecap:butt;stroke-linejoin:round;}</style>\r\n </defs>\r\n <g id=\"figure_1\">\r\n  <g id=\"patch_1\">\r\n   <path d=\"M 0 265.995469 \r\nL 389.653693 265.995469 \r\nL 389.653693 0 \r\nL 0 0 \r\nz\r\n\" style=\"fill:none;\"/>\r\n  </g>\r\n  <g id=\"axes_1\">\r\n   <g id=\"patch_2\">\r\n    <path d=\"M 46.965625 228.439219 \r\nL 381.765625 228.439219 \r\nL 381.765625 10.999219 \r\nL 46.965625 10.999219 \r\nz\r\n\" style=\"fill:#ffffff;\"/>\r\n   </g>\r\n   <g id=\"matplotlib.axis_1\">\r\n    <g id=\"xtick_1\">\r\n     <g id=\"line2d_1\">\r\n      <defs>\r\n       <path d=\"M 0 0 \r\nL 0 3.5 \r\n\" id=\"m9f9415bf57\" style=\"stroke:#000000;stroke-width:0.8;\"/>\r\n      </defs>\r\n      <g>\r\n       <use style=\"stroke:#000000;stroke-width:0.8;\" x=\"62.183807\" xlink:href=\"#m9f9415bf57\" y=\"228.439219\"/>\r\n      </g>\r\n     </g>\r\n     <g id=\"text_1\">\r\n      <!-- 0 -->\r\n      <g transform=\"translate(59.002557 243.037656)scale(0.1 -0.1)\">\r\n       <defs>\r\n        <path d=\"M 2034 4250 \r\nQ 1547 4250 1301 3770 \r\nQ 1056 3291 1056 2328 \r\nQ 1056 1369 1301 889 \r\nQ 1547 409 2034 409 \r\nQ 2525 409 2770 889 \r\nQ 3016 1369 3016 2328 \r\nQ 3016 3291 2770 3770 \r\nQ 2525 4250 2034 4250 \r\nz\r\nM 2034 4750 \r\nQ 2819 4750 3233 4129 \r\nQ 3647 3509 3647 2328 \r\nQ 3647 1150 3233 529 \r\nQ 2819 -91 2034 -91 \r\nQ 1250 -91 836 529 \r\nQ 422 1150 422 2328 \r\nQ 422 3509 836 4129 \r\nQ 1250 4750 2034 4750 \r\nz\r\n\" id=\"DejaVuSans-30\" transform=\"scale(0.015625)\"/>\r\n       </defs>\r\n       <use xlink:href=\"#DejaVuSans-30\"/>\r\n      </g>\r\n     </g>\r\n    </g>\r\n    <g id=\"xtick_2\">\r\n     <g id=\"line2d_2\">\r\n      <g>\r\n       <use style=\"stroke:#000000;stroke-width:0.8;\" x=\"100.229261\" xlink:href=\"#m9f9415bf57\" y=\"228.439219\"/>\r\n      </g>\r\n     </g>\r\n     <g id=\"text_2\">\r\n      <!-- 2500 -->\r\n      <g transform=\"translate(87.504261 243.037656)scale(0.1 -0.1)\">\r\n       <defs>\r\n        <path d=\"M 1228 531 \r\nL 3431 531 \r\nL 3431 0 \r\nL 469 0 \r\nL 469 531 \r\nQ 828 903 1448 1529 \r\nQ 2069 2156 2228 2338 \r\nQ 2531 2678 2651 2914 \r\nQ 2772 3150 2772 3378 \r\nQ 2772 3750 2511 3984 \r\nQ 2250 4219 1831 4219 \r\nQ 1534 4219 1204 4116 \r\nQ 875 4013 500 3803 \r\nL 500 4441 \r\nQ 881 4594 1212 4672 \r\nQ 1544 4750 1819 4750 \r\nQ 2544 4750 2975 4387 \r\nQ 3406 4025 3406 3419 \r\nQ 3406 3131 3298 2873 \r\nQ 3191 2616 2906 2266 \r\nQ 2828 2175 2409 1742 \r\nQ 1991 1309 1228 531 \r\nz\r\n\" id=\"DejaVuSans-32\" transform=\"scale(0.015625)\"/>\r\n        <path d=\"M 691 4666 \r\nL 3169 4666 \r\nL 3169 4134 \r\nL 1269 4134 \r\nL 1269 2991 \r\nQ 1406 3038 1543 3061 \r\nQ 1681 3084 1819 3084 \r\nQ 2600 3084 3056 2656 \r\nQ 3513 2228 3513 1497 \r\nQ 3513 744 3044 326 \r\nQ 2575 -91 1722 -91 \r\nQ 1428 -91 1123 -41 \r\nQ 819 9 494 109 \r\nL 494 744 \r\nQ 775 591 1075 516 \r\nQ 1375 441 1709 441 \r\nQ 2250 441 2565 725 \r\nQ 2881 1009 2881 1497 \r\nQ 2881 1984 2565 2268 \r\nQ 2250 2553 1709 2553 \r\nQ 1456 2553 1204 2497 \r\nQ 953 2441 691 2322 \r\nL 691 4666 \r\nz\r\n\" id=\"DejaVuSans-35\" transform=\"scale(0.015625)\"/>\r\n       </defs>\r\n       <use xlink:href=\"#DejaVuSans-32\"/>\r\n       <use x=\"63.623047\" xlink:href=\"#DejaVuSans-35\"/>\r\n       <use x=\"127.246094\" xlink:href=\"#DejaVuSans-30\"/>\r\n       <use x=\"190.869141\" xlink:href=\"#DejaVuSans-30\"/>\r\n      </g>\r\n     </g>\r\n    </g>\r\n    <g id=\"xtick_3\">\r\n     <g id=\"line2d_3\">\r\n      <g>\r\n       <use style=\"stroke:#000000;stroke-width:0.8;\" x=\"138.274716\" xlink:href=\"#m9f9415bf57\" y=\"228.439219\"/>\r\n      </g>\r\n     </g>\r\n     <g id=\"text_3\">\r\n      <!-- 5000 -->\r\n      <g transform=\"translate(125.549716 243.037656)scale(0.1 -0.1)\">\r\n       <use xlink:href=\"#DejaVuSans-35\"/>\r\n       <use x=\"63.623047\" xlink:href=\"#DejaVuSans-30\"/>\r\n       <use x=\"127.246094\" xlink:href=\"#DejaVuSans-30\"/>\r\n       <use x=\"190.869141\" xlink:href=\"#DejaVuSans-30\"/>\r\n      </g>\r\n     </g>\r\n    </g>\r\n    <g id=\"xtick_4\">\r\n     <g id=\"line2d_4\">\r\n      <g>\r\n       <use style=\"stroke:#000000;stroke-width:0.8;\" x=\"176.32017\" xlink:href=\"#m9f9415bf57\" y=\"228.439219\"/>\r\n      </g>\r\n     </g>\r\n     <g id=\"text_4\">\r\n      <!-- 7500 -->\r\n      <g transform=\"translate(163.59517 243.037656)scale(0.1 -0.1)\">\r\n       <defs>\r\n        <path d=\"M 525 4666 \r\nL 3525 4666 \r\nL 3525 4397 \r\nL 1831 0 \r\nL 1172 0 \r\nL 2766 4134 \r\nL 525 4134 \r\nL 525 4666 \r\nz\r\n\" id=\"DejaVuSans-37\" transform=\"scale(0.015625)\"/>\r\n       </defs>\r\n       <use xlink:href=\"#DejaVuSans-37\"/>\r\n       <use x=\"63.623047\" xlink:href=\"#DejaVuSans-35\"/>\r\n       <use x=\"127.246094\" xlink:href=\"#DejaVuSans-30\"/>\r\n       <use x=\"190.869141\" xlink:href=\"#DejaVuSans-30\"/>\r\n      </g>\r\n     </g>\r\n    </g>\r\n    <g id=\"xtick_5\">\r\n     <g id=\"line2d_5\">\r\n      <g>\r\n       <use style=\"stroke:#000000;stroke-width:0.8;\" x=\"214.365625\" xlink:href=\"#m9f9415bf57\" y=\"228.439219\"/>\r\n      </g>\r\n     </g>\r\n     <g id=\"text_5\">\r\n      <!-- 10000 -->\r\n      <g transform=\"translate(198.459375 243.037656)scale(0.1 -0.1)\">\r\n       <defs>\r\n        <path d=\"M 794 531 \r\nL 1825 531 \r\nL 1825 4091 \r\nL 703 3866 \r\nL 703 4441 \r\nL 1819 4666 \r\nL 2450 4666 \r\nL 2450 531 \r\nL 3481 531 \r\nL 3481 0 \r\nL 794 0 \r\nL 794 531 \r\nz\r\n\" id=\"DejaVuSans-31\" transform=\"scale(0.015625)\"/>\r\n       </defs>\r\n       <use xlink:href=\"#DejaVuSans-31\"/>\r\n       <use x=\"63.623047\" xlink:href=\"#DejaVuSans-30\"/>\r\n       <use x=\"127.246094\" xlink:href=\"#DejaVuSans-30\"/>\r\n       <use x=\"190.869141\" xlink:href=\"#DejaVuSans-30\"/>\r\n       <use x=\"254.492188\" xlink:href=\"#DejaVuSans-30\"/>\r\n      </g>\r\n     </g>\r\n    </g>\r\n    <g id=\"xtick_6\">\r\n     <g id=\"line2d_6\">\r\n      <g>\r\n       <use style=\"stroke:#000000;stroke-width:0.8;\" x=\"252.41108\" xlink:href=\"#m9f9415bf57\" y=\"228.439219\"/>\r\n      </g>\r\n     </g>\r\n     <g id=\"text_6\">\r\n      <!-- 12500 -->\r\n      <g transform=\"translate(236.50483 243.037656)scale(0.1 -0.1)\">\r\n       <use xlink:href=\"#DejaVuSans-31\"/>\r\n       <use x=\"63.623047\" xlink:href=\"#DejaVuSans-32\"/>\r\n       <use x=\"127.246094\" xlink:href=\"#DejaVuSans-35\"/>\r\n       <use x=\"190.869141\" xlink:href=\"#DejaVuSans-30\"/>\r\n       <use x=\"254.492188\" xlink:href=\"#DejaVuSans-30\"/>\r\n      </g>\r\n     </g>\r\n    </g>\r\n    <g id=\"xtick_7\">\r\n     <g id=\"line2d_7\">\r\n      <g>\r\n       <use style=\"stroke:#000000;stroke-width:0.8;\" x=\"290.456534\" xlink:href=\"#m9f9415bf57\" y=\"228.439219\"/>\r\n      </g>\r\n     </g>\r\n     <g id=\"text_7\">\r\n      <!-- 15000 -->\r\n      <g transform=\"translate(274.550284 243.037656)scale(0.1 -0.1)\">\r\n       <use xlink:href=\"#DejaVuSans-31\"/>\r\n       <use x=\"63.623047\" xlink:href=\"#DejaVuSans-35\"/>\r\n       <use x=\"127.246094\" xlink:href=\"#DejaVuSans-30\"/>\r\n       <use x=\"190.869141\" xlink:href=\"#DejaVuSans-30\"/>\r\n       <use x=\"254.492188\" xlink:href=\"#DejaVuSans-30\"/>\r\n      </g>\r\n     </g>\r\n    </g>\r\n    <g id=\"xtick_8\">\r\n     <g id=\"line2d_8\">\r\n      <g>\r\n       <use style=\"stroke:#000000;stroke-width:0.8;\" x=\"328.501989\" xlink:href=\"#m9f9415bf57\" y=\"228.439219\"/>\r\n      </g>\r\n     </g>\r\n     <g id=\"text_8\">\r\n      <!-- 17500 -->\r\n      <g transform=\"translate(312.595739 243.037656)scale(0.1 -0.1)\">\r\n       <use xlink:href=\"#DejaVuSans-31\"/>\r\n       <use x=\"63.623047\" xlink:href=\"#DejaVuSans-37\"/>\r\n       <use x=\"127.246094\" xlink:href=\"#DejaVuSans-35\"/>\r\n       <use x=\"190.869141\" xlink:href=\"#DejaVuSans-30\"/>\r\n       <use x=\"254.492188\" xlink:href=\"#DejaVuSans-30\"/>\r\n      </g>\r\n     </g>\r\n    </g>\r\n    <g id=\"xtick_9\">\r\n     <g id=\"line2d_9\">\r\n      <g>\r\n       <use style=\"stroke:#000000;stroke-width:0.8;\" x=\"366.547443\" xlink:href=\"#m9f9415bf57\" y=\"228.439219\"/>\r\n      </g>\r\n     </g>\r\n     <g id=\"text_9\">\r\n      <!-- 20000 -->\r\n      <g transform=\"translate(350.641193 243.037656)scale(0.1 -0.1)\">\r\n       <use xlink:href=\"#DejaVuSans-32\"/>\r\n       <use x=\"63.623047\" xlink:href=\"#DejaVuSans-30\"/>\r\n       <use x=\"127.246094\" xlink:href=\"#DejaVuSans-30\"/>\r\n       <use x=\"190.869141\" xlink:href=\"#DejaVuSans-30\"/>\r\n       <use x=\"254.492188\" xlink:href=\"#DejaVuSans-30\"/>\r\n      </g>\r\n     </g>\r\n    </g>\r\n    <g id=\"text_10\">\r\n     <!-- Iterations -->\r\n     <g transform=\"translate(190.552344 256.715781)scale(0.1 -0.1)\">\r\n      <defs>\r\n       <path d=\"M 628 4666 \r\nL 1259 4666 \r\nL 1259 0 \r\nL 628 0 \r\nL 628 4666 \r\nz\r\n\" id=\"DejaVuSans-49\" transform=\"scale(0.015625)\"/>\r\n       <path d=\"M 1172 4494 \r\nL 1172 3500 \r\nL 2356 3500 \r\nL 2356 3053 \r\nL 1172 3053 \r\nL 1172 1153 \r\nQ 1172 725 1289 603 \r\nQ 1406 481 1766 481 \r\nL 2356 481 \r\nL 2356 0 \r\nL 1766 0 \r\nQ 1100 0 847 248 \r\nQ 594 497 594 1153 \r\nL 594 3053 \r\nL 172 3053 \r\nL 172 3500 \r\nL 594 3500 \r\nL 594 4494 \r\nL 1172 4494 \r\nz\r\n\" id=\"DejaVuSans-74\" transform=\"scale(0.015625)\"/>\r\n       <path d=\"M 3597 1894 \r\nL 3597 1613 \r\nL 953 1613 \r\nQ 991 1019 1311 708 \r\nQ 1631 397 2203 397 \r\nQ 2534 397 2845 478 \r\nQ 3156 559 3463 722 \r\nL 3463 178 \r\nQ 3153 47 2828 -22 \r\nQ 2503 -91 2169 -91 \r\nQ 1331 -91 842 396 \r\nQ 353 884 353 1716 \r\nQ 353 2575 817 3079 \r\nQ 1281 3584 2069 3584 \r\nQ 2775 3584 3186 3129 \r\nQ 3597 2675 3597 1894 \r\nz\r\nM 3022 2063 \r\nQ 3016 2534 2758 2815 \r\nQ 2500 3097 2075 3097 \r\nQ 1594 3097 1305 2825 \r\nQ 1016 2553 972 2059 \r\nL 3022 2063 \r\nz\r\n\" id=\"DejaVuSans-65\" transform=\"scale(0.015625)\"/>\r\n       <path d=\"M 2631 2963 \r\nQ 2534 3019 2420 3045 \r\nQ 2306 3072 2169 3072 \r\nQ 1681 3072 1420 2755 \r\nQ 1159 2438 1159 1844 \r\nL 1159 0 \r\nL 581 0 \r\nL 581 3500 \r\nL 1159 3500 \r\nL 1159 2956 \r\nQ 1341 3275 1631 3429 \r\nQ 1922 3584 2338 3584 \r\nQ 2397 3584 2469 3576 \r\nQ 2541 3569 2628 3553 \r\nL 2631 2963 \r\nz\r\n\" id=\"DejaVuSans-72\" transform=\"scale(0.015625)\"/>\r\n       <path d=\"M 2194 1759 \r\nQ 1497 1759 1228 1600 \r\nQ 959 1441 959 1056 \r\nQ 959 750 1161 570 \r\nQ 1363 391 1709 391 \r\nQ 2188 391 2477 730 \r\nQ 2766 1069 2766 1631 \r\nL 2766 1759 \r\nL 2194 1759 \r\nz\r\nM 3341 1997 \r\nL 3341 0 \r\nL 2766 0 \r\nL 2766 531 \r\nQ 2569 213 2275 61 \r\nQ 1981 -91 1556 -91 \r\nQ 1019 -91 701 211 \r\nQ 384 513 384 1019 \r\nQ 384 1609 779 1909 \r\nQ 1175 2209 1959 2209 \r\nL 2766 2209 \r\nL 2766 2266 \r\nQ 2766 2663 2505 2880 \r\nQ 2244 3097 1772 3097 \r\nQ 1472 3097 1187 3025 \r\nQ 903 2953 641 2809 \r\nL 641 3341 \r\nQ 956 3463 1253 3523 \r\nQ 1550 3584 1831 3584 \r\nQ 2591 3584 2966 3190 \r\nQ 3341 2797 3341 1997 \r\nz\r\n\" id=\"DejaVuSans-61\" transform=\"scale(0.015625)\"/>\r\n       <path d=\"M 603 3500 \r\nL 1178 3500 \r\nL 1178 0 \r\nL 603 0 \r\nL 603 3500 \r\nz\r\nM 603 4863 \r\nL 1178 4863 \r\nL 1178 4134 \r\nL 603 4134 \r\nL 603 4863 \r\nz\r\n\" id=\"DejaVuSans-69\" transform=\"scale(0.015625)\"/>\r\n       <path d=\"M 1959 3097 \r\nQ 1497 3097 1228 2736 \r\nQ 959 2375 959 1747 \r\nQ 959 1119 1226 758 \r\nQ 1494 397 1959 397 \r\nQ 2419 397 2687 759 \r\nQ 2956 1122 2956 1747 \r\nQ 2956 2369 2687 2733 \r\nQ 2419 3097 1959 3097 \r\nz\r\nM 1959 3584 \r\nQ 2709 3584 3137 3096 \r\nQ 3566 2609 3566 1747 \r\nQ 3566 888 3137 398 \r\nQ 2709 -91 1959 -91 \r\nQ 1206 -91 779 398 \r\nQ 353 888 353 1747 \r\nQ 353 2609 779 3096 \r\nQ 1206 3584 1959 3584 \r\nz\r\n\" id=\"DejaVuSans-6f\" transform=\"scale(0.015625)\"/>\r\n       <path d=\"M 3513 2113 \r\nL 3513 0 \r\nL 2938 0 \r\nL 2938 2094 \r\nQ 2938 2591 2744 2837 \r\nQ 2550 3084 2163 3084 \r\nQ 1697 3084 1428 2787 \r\nQ 1159 2491 1159 1978 \r\nL 1159 0 \r\nL 581 0 \r\nL 581 3500 \r\nL 1159 3500 \r\nL 1159 2956 \r\nQ 1366 3272 1645 3428 \r\nQ 1925 3584 2291 3584 \r\nQ 2894 3584 3203 3211 \r\nQ 3513 2838 3513 2113 \r\nz\r\n\" id=\"DejaVuSans-6e\" transform=\"scale(0.015625)\"/>\r\n       <path d=\"M 2834 3397 \r\nL 2834 2853 \r\nQ 2591 2978 2328 3040 \r\nQ 2066 3103 1784 3103 \r\nQ 1356 3103 1142 2972 \r\nQ 928 2841 928 2578 \r\nQ 928 2378 1081 2264 \r\nQ 1234 2150 1697 2047 \r\nL 1894 2003 \r\nQ 2506 1872 2764 1633 \r\nQ 3022 1394 3022 966 \r\nQ 3022 478 2636 193 \r\nQ 2250 -91 1575 -91 \r\nQ 1294 -91 989 -36 \r\nQ 684 19 347 128 \r\nL 347 722 \r\nQ 666 556 975 473 \r\nQ 1284 391 1588 391 \r\nQ 1994 391 2212 530 \r\nQ 2431 669 2431 922 \r\nQ 2431 1156 2273 1281 \r\nQ 2116 1406 1581 1522 \r\nL 1381 1569 \r\nQ 847 1681 609 1914 \r\nQ 372 2147 372 2553 \r\nQ 372 3047 722 3315 \r\nQ 1072 3584 1716 3584 \r\nQ 2034 3584 2315 3537 \r\nQ 2597 3491 2834 3397 \r\nz\r\n\" id=\"DejaVuSans-73\" transform=\"scale(0.015625)\"/>\r\n      </defs>\r\n      <use xlink:href=\"#DejaVuSans-49\"/>\r\n      <use x=\"29.492188\" xlink:href=\"#DejaVuSans-74\"/>\r\n      <use x=\"68.701172\" xlink:href=\"#DejaVuSans-65\"/>\r\n      <use x=\"130.224609\" xlink:href=\"#DejaVuSans-72\"/>\r\n      <use x=\"171.337891\" xlink:href=\"#DejaVuSans-61\"/>\r\n      <use x=\"232.617188\" xlink:href=\"#DejaVuSans-74\"/>\r\n      <use x=\"271.826172\" xlink:href=\"#DejaVuSans-69\"/>\r\n      <use x=\"299.609375\" xlink:href=\"#DejaVuSans-6f\"/>\r\n      <use x=\"360.791016\" xlink:href=\"#DejaVuSans-6e\"/>\r\n      <use x=\"424.169922\" xlink:href=\"#DejaVuSans-73\"/>\r\n     </g>\r\n    </g>\r\n   </g>\r\n   <g id=\"matplotlib.axis_2\">\r\n    <g id=\"ytick_1\">\r\n     <g id=\"line2d_10\">\r\n      <defs>\r\n       <path d=\"M 0 0 \r\nL -3.5 0 \r\n\" id=\"m5ccfeed885\" style=\"stroke:#000000;stroke-width:0.8;\"/>\r\n      </defs>\r\n      <g>\r\n       <use style=\"stroke:#000000;stroke-width:0.8;\" x=\"46.965625\" xlink:href=\"#m5ccfeed885\" y=\"227.780205\"/>\r\n      </g>\r\n     </g>\r\n     <g id=\"text_11\">\r\n      <!-- 0 -->\r\n      <g transform=\"translate(33.603125 231.579423)scale(0.1 -0.1)\">\r\n       <use xlink:href=\"#DejaVuSans-30\"/>\r\n      </g>\r\n     </g>\r\n    </g>\r\n    <g id=\"ytick_2\">\r\n     <g id=\"line2d_11\">\r\n      <g>\r\n       <use style=\"stroke:#000000;stroke-width:0.8;\" x=\"46.965625\" xlink:href=\"#m5ccfeed885\" y=\"184.424008\"/>\r\n      </g>\r\n     </g>\r\n     <g id=\"text_12\">\r\n      <!-- 50 -->\r\n      <g transform=\"translate(27.240625 188.223226)scale(0.1 -0.1)\">\r\n       <use xlink:href=\"#DejaVuSans-35\"/>\r\n       <use x=\"63.623047\" xlink:href=\"#DejaVuSans-30\"/>\r\n      </g>\r\n     </g>\r\n    </g>\r\n    <g id=\"ytick_3\">\r\n     <g id=\"line2d_12\">\r\n      <g>\r\n       <use style=\"stroke:#000000;stroke-width:0.8;\" x=\"46.965625\" xlink:href=\"#m5ccfeed885\" y=\"141.06781\"/>\r\n      </g>\r\n     </g>\r\n     <g id=\"text_13\">\r\n      <!-- 100 -->\r\n      <g transform=\"translate(20.878125 144.867029)scale(0.1 -0.1)\">\r\n       <use xlink:href=\"#DejaVuSans-31\"/>\r\n       <use x=\"63.623047\" xlink:href=\"#DejaVuSans-30\"/>\r\n       <use x=\"127.246094\" xlink:href=\"#DejaVuSans-30\"/>\r\n      </g>\r\n     </g>\r\n    </g>\r\n    <g id=\"ytick_4\">\r\n     <g id=\"line2d_13\">\r\n      <g>\r\n       <use style=\"stroke:#000000;stroke-width:0.8;\" x=\"46.965625\" xlink:href=\"#m5ccfeed885\" y=\"97.711613\"/>\r\n      </g>\r\n     </g>\r\n     <g id=\"text_14\">\r\n      <!-- 150 -->\r\n      <g transform=\"translate(20.878125 101.510832)scale(0.1 -0.1)\">\r\n       <use xlink:href=\"#DejaVuSans-31\"/>\r\n       <use x=\"63.623047\" xlink:href=\"#DejaVuSans-35\"/>\r\n       <use x=\"127.246094\" xlink:href=\"#DejaVuSans-30\"/>\r\n      </g>\r\n     </g>\r\n    </g>\r\n    <g id=\"ytick_5\">\r\n     <g id=\"line2d_14\">\r\n      <g>\r\n       <use style=\"stroke:#000000;stroke-width:0.8;\" x=\"46.965625\" xlink:href=\"#m5ccfeed885\" y=\"54.355416\"/>\r\n      </g>\r\n     </g>\r\n     <g id=\"text_15\">\r\n      <!-- 200 -->\r\n      <g transform=\"translate(20.878125 58.154635)scale(0.1 -0.1)\">\r\n       <use xlink:href=\"#DejaVuSans-32\"/>\r\n       <use x=\"63.623047\" xlink:href=\"#DejaVuSans-30\"/>\r\n       <use x=\"127.246094\" xlink:href=\"#DejaVuSans-30\"/>\r\n      </g>\r\n     </g>\r\n    </g>\r\n    <g id=\"ytick_6\">\r\n     <g id=\"line2d_15\">\r\n      <g>\r\n       <use style=\"stroke:#000000;stroke-width:0.8;\" x=\"46.965625\" xlink:href=\"#m5ccfeed885\" y=\"10.999219\"/>\r\n      </g>\r\n     </g>\r\n     <g id=\"text_16\">\r\n      <!-- 250 -->\r\n      <g transform=\"translate(20.878125 14.798438)scale(0.1 -0.1)\">\r\n       <use xlink:href=\"#DejaVuSans-32\"/>\r\n       <use x=\"63.623047\" xlink:href=\"#DejaVuSans-35\"/>\r\n       <use x=\"127.246094\" xlink:href=\"#DejaVuSans-30\"/>\r\n      </g>\r\n     </g>\r\n    </g>\r\n    <g id=\"text_17\">\r\n     <!-- Average Return -->\r\n     <g transform=\"translate(14.798438 158.4325)rotate(-90)scale(0.1 -0.1)\">\r\n      <defs>\r\n       <path d=\"M 2188 4044 \r\nL 1331 1722 \r\nL 3047 1722 \r\nL 2188 4044 \r\nz\r\nM 1831 4666 \r\nL 2547 4666 \r\nL 4325 0 \r\nL 3669 0 \r\nL 3244 1197 \r\nL 1141 1197 \r\nL 716 0 \r\nL 50 0 \r\nL 1831 4666 \r\nz\r\n\" id=\"DejaVuSans-41\" transform=\"scale(0.015625)\"/>\r\n       <path d=\"M 191 3500 \r\nL 800 3500 \r\nL 1894 563 \r\nL 2988 3500 \r\nL 3597 3500 \r\nL 2284 0 \r\nL 1503 0 \r\nL 191 3500 \r\nz\r\n\" id=\"DejaVuSans-76\" transform=\"scale(0.015625)\"/>\r\n       <path d=\"M 2906 1791 \r\nQ 2906 2416 2648 2759 \r\nQ 2391 3103 1925 3103 \r\nQ 1463 3103 1205 2759 \r\nQ 947 2416 947 1791 \r\nQ 947 1169 1205 825 \r\nQ 1463 481 1925 481 \r\nQ 2391 481 2648 825 \r\nQ 2906 1169 2906 1791 \r\nz\r\nM 3481 434 \r\nQ 3481 -459 3084 -895 \r\nQ 2688 -1331 1869 -1331 \r\nQ 1566 -1331 1297 -1286 \r\nQ 1028 -1241 775 -1147 \r\nL 775 -588 \r\nQ 1028 -725 1275 -790 \r\nQ 1522 -856 1778 -856 \r\nQ 2344 -856 2625 -561 \r\nQ 2906 -266 2906 331 \r\nL 2906 616 \r\nQ 2728 306 2450 153 \r\nQ 2172 0 1784 0 \r\nQ 1141 0 747 490 \r\nQ 353 981 353 1791 \r\nQ 353 2603 747 3093 \r\nQ 1141 3584 1784 3584 \r\nQ 2172 3584 2450 3431 \r\nQ 2728 3278 2906 2969 \r\nL 2906 3500 \r\nL 3481 3500 \r\nL 3481 434 \r\nz\r\n\" id=\"DejaVuSans-67\" transform=\"scale(0.015625)\"/>\r\n       <path id=\"DejaVuSans-20\" transform=\"scale(0.015625)\"/>\r\n       <path d=\"M 2841 2188 \r\nQ 3044 2119 3236 1894 \r\nQ 3428 1669 3622 1275 \r\nL 4263 0 \r\nL 3584 0 \r\nL 2988 1197 \r\nQ 2756 1666 2539 1819 \r\nQ 2322 1972 1947 1972 \r\nL 1259 1972 \r\nL 1259 0 \r\nL 628 0 \r\nL 628 4666 \r\nL 2053 4666 \r\nQ 2853 4666 3247 4331 \r\nQ 3641 3997 3641 3322 \r\nQ 3641 2881 3436 2590 \r\nQ 3231 2300 2841 2188 \r\nz\r\nM 1259 4147 \r\nL 1259 2491 \r\nL 2053 2491 \r\nQ 2509 2491 2742 2702 \r\nQ 2975 2913 2975 3322 \r\nQ 2975 3731 2742 3939 \r\nQ 2509 4147 2053 4147 \r\nL 1259 4147 \r\nz\r\n\" id=\"DejaVuSans-52\" transform=\"scale(0.015625)\"/>\r\n       <path d=\"M 544 1381 \r\nL 544 3500 \r\nL 1119 3500 \r\nL 1119 1403 \r\nQ 1119 906 1312 657 \r\nQ 1506 409 1894 409 \r\nQ 2359 409 2629 706 \r\nQ 2900 1003 2900 1516 \r\nL 2900 3500 \r\nL 3475 3500 \r\nL 3475 0 \r\nL 2900 0 \r\nL 2900 538 \r\nQ 2691 219 2414 64 \r\nQ 2138 -91 1772 -91 \r\nQ 1169 -91 856 284 \r\nQ 544 659 544 1381 \r\nz\r\nM 1991 3584 \r\nL 1991 3584 \r\nz\r\n\" id=\"DejaVuSans-75\" transform=\"scale(0.015625)\"/>\r\n      </defs>\r\n      <use xlink:href=\"#DejaVuSans-41\"/>\r\n      <use x=\"62.533203\" xlink:href=\"#DejaVuSans-76\"/>\r\n      <use x=\"121.712891\" xlink:href=\"#DejaVuSans-65\"/>\r\n      <use x=\"183.236328\" xlink:href=\"#DejaVuSans-72\"/>\r\n      <use x=\"224.349609\" xlink:href=\"#DejaVuSans-61\"/>\r\n      <use x=\"285.628906\" xlink:href=\"#DejaVuSans-67\"/>\r\n      <use x=\"349.105469\" xlink:href=\"#DejaVuSans-65\"/>\r\n      <use x=\"410.628906\" xlink:href=\"#DejaVuSans-20\"/>\r\n      <use x=\"442.416016\" xlink:href=\"#DejaVuSans-52\"/>\r\n      <use x=\"507.398438\" xlink:href=\"#DejaVuSans-65\"/>\r\n      <use x=\"568.921875\" xlink:href=\"#DejaVuSans-74\"/>\r\n      <use x=\"608.130859\" xlink:href=\"#DejaVuSans-75\"/>\r\n      <use x=\"671.509766\" xlink:href=\"#DejaVuSans-72\"/>\r\n      <use x=\"710.873047\" xlink:href=\"#DejaVuSans-6e\"/>\r\n     </g>\r\n    </g>\r\n   </g>\r\n   <g id=\"line2d_16\">\r\n    <path clip-path=\"url(#p1d35e611d5)\" d=\"M 62.183807 220.149514 \r\nL 77.401989 211.044713 \r\nL 92.62017 212.171974 \r\nL 107.838352 210.437726 \r\nL 123.056534 188.846338 \r\nL 138.274716 195.349768 \r\nL 153.492898 177.833867 \r\nL 168.71108 147.484529 \r\nL 183.929261 109.938066 \r\nL 199.147443 93.462711 \r\nL 214.365625 54.70226 \r\nL 229.583807 54.355416 \r\nL 244.801989 54.355416 \r\nL 260.02017 54.355416 \r\nL 275.238352 54.355416 \r\nL 290.456534 55.049118 \r\nL 305.674716 54.355416 \r\nL 320.892898 54.355416 \r\nL 336.11108 54.355416 \r\nL 351.329261 54.355416 \r\nL 366.547443 54.355416 \r\n\" style=\"fill:none;stroke:#1f77b4;stroke-linecap:square;stroke-width:1.5;\"/>\r\n   </g>\r\n   <g id=\"patch_3\">\r\n    <path d=\"M 46.965625 228.439219 \r\nL 46.965625 10.999219 \r\n\" style=\"fill:none;stroke:#000000;stroke-linecap:square;stroke-linejoin:miter;stroke-width:0.8;\"/>\r\n   </g>\r\n   <g id=\"patch_4\">\r\n    <path d=\"M 381.765625 228.439219 \r\nL 381.765625 10.999219 \r\n\" style=\"fill:none;stroke:#000000;stroke-linecap:square;stroke-linejoin:miter;stroke-width:0.8;\"/>\r\n   </g>\r\n   <g id=\"patch_5\">\r\n    <path d=\"M 46.965625 228.439219 \r\nL 381.765625 228.439219 \r\n\" style=\"fill:none;stroke:#000000;stroke-linecap:square;stroke-linejoin:miter;stroke-width:0.8;\"/>\r\n   </g>\r\n   <g id=\"patch_6\">\r\n    <path d=\"M 46.965625 10.999219 \r\nL 381.765625 10.999219 \r\n\" style=\"fill:none;stroke:#000000;stroke-linecap:square;stroke-linejoin:miter;stroke-width:0.8;\"/>\r\n   </g>\r\n  </g>\r\n </g>\r\n <defs>\r\n  <clipPath id=\"p1d35e611d5\">\r\n   <rect height=\"217.44\" width=\"334.8\" x=\"46.965625\" y=\"10.999219\"/>\r\n  </clipPath>\r\n </defs>\r\n</svg>\r\n",
      "image/png": "[encoded data removed]"
     },
     "metadata": {
      "needs_background": "light"
     }
    }
   ],
   "source": [
    "#@test {\"skip\": true}\n",
    "\n",
    "iterations = range(0, num_iterations + 1, eval_interval)\n",
    "plt.plot(iterations, returns)\n",
    "plt.ylabel('Average Return')\n",
    "plt.xlabel('Iterations')\n",
    "plt.ylim(top=250)\n",
    "plt.show()"
   ]
  },
  {
   "source": [
    "## Video"
   ],
   "cell_type": "markdown",
   "metadata": {}
  },
  {
   "cell_type": "code",
   "execution_count": 30,
   "metadata": {},
   "outputs": [],
   "source": [
    "def embed_mp4(filename):\n",
    "  \"\"\"Embeds an mp4 file in the notebook.\"\"\"\n",
    "  video = open(filename,'rb').read()\n",
    "  b64 = base64.b64encode(video)\n",
    "  tag = '''\n",
    "  <video width=\"640\" height=\"480\" controls>\n",
    "    <source src=\"data:video/mp4;base64,{0}\" type=\"video/mp4\">\n",
    "  Your browser does not support the video tag.\n",
    "  </video>'''.format(b64.decode())\n",
    "\n",
    "  return IPython.display.HTML(tag)"
   ]
  },
  {
   "cell_type": "code",
   "execution_count": 31,
   "metadata": {},
   "outputs": [],
   "source": [
    "def create_policy_eval_video(policy, filename, num_episodes=5, fps=30):\n",
    "  filename = filename + \".mp4\"\n",
    "  with imageio.get_writer(filename, fps=fps) as video:\n",
    "    for _ in range(num_episodes):\n",
    "      time_step = eval_env.reset()\n",
    "      video.append_data(eval_py_env.render())\n",
    "      while not time_step.is_last():\n",
    "        action_step = policy.action(time_step)\n",
    "        time_step = eval_env.step(action_step.action)\n",
    "        video.append_data(eval_py_env.render())\n",
    "  return embed_mp4(filename)\n",
    "\n",
    "create_policy_eval_video(agent.policy, \"trained-agent\")"
   ]
  },
  {
   "cell_type": "code",
   "execution_count": null,
   "metadata": {},
   "outputs": [],
   "source": [
    "create_policy_eval_video(random_policy, \"random-agent\")"
   ]
  }
 ]
}