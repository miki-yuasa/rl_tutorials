{
 "cells": [
  {
   "cell_type": "code",
   "execution_count": 1,
   "source": [
    "# パッケージのimport\r\n",
    "import numpy as np\r\n",
    "import matplotlib.pyplot as plt\r\n",
    "%matplotlib inline\r\n",
    "import gym"
   ],
   "outputs": [],
   "metadata": {}
  },
  {
   "cell_type": "code",
   "execution_count": 2,
   "source": [
    "# 定数の設定\r\n",
    "ENV = 'CartPole-v0'  # 使用する課題名\r\n",
    "GAMMA = 0.99  # 時間割引率\r\n",
    "MAX_STEPS = 200  # 1試行のstep数\r\n",
    "NUM_EPISODES = 1000  # 最大試行回数\r\n",
    "\r\n",
    "NUM_PROCESSES = 32  # 同時に実行する環境\r\n",
    "NUM_ADVANCED_STEP = 5  # 何ステップ進めて報酬和を計算するのか設定"
   ],
   "outputs": [],
   "metadata": {}
  },
  {
   "cell_type": "code",
   "execution_count": 3,
   "source": [
    "\r\n",
    "# A2Cの損失関数の計算のための定数設定\r\n",
    "value_loss_coef = 0.5\r\n",
    "entropy_coef = 0.01\r\n",
    "max_grad_norm = 0.5"
   ],
   "outputs": [],
   "metadata": {}
  },
  {
   "cell_type": "code",
   "execution_count": 4,
   "source": [
    "# メモリクラスの定義\r\n",
    "\r\n",
    "\r\n",
    "class RolloutStorage(object):\r\n",
    "    '''Advantage学習するためのメモリクラスです'''\r\n",
    "\r\n",
    "    def __init__(self, num_steps, num_processes, obs_shape):\r\n",
    "\r\n",
    "        self.observations = torch.zeros(num_steps + 1, num_processes, 4)\r\n",
    "        self.masks = torch.ones(num_steps + 1, num_processes, 1)\r\n",
    "        self.rewards = torch.zeros(num_steps, num_processes, 1)\r\n",
    "        self.actions = torch.zeros(num_steps, num_processes, 1).long()\r\n",
    "\r\n",
    "        # 割引報酬和を格納\r\n",
    "        self.returns = torch.zeros(num_steps + 1, num_processes, 1)\r\n",
    "        self.index = 0  # insertするインデックス\r\n",
    "\r\n",
    "    def insert(self, current_obs, action, reward, mask):\r\n",
    "        '''次のindexにtransitionを格納する'''\r\n",
    "        self.observations[self.index + 1].copy_(current_obs)\r\n",
    "        self.masks[self.index + 1].copy_(mask)\r\n",
    "        self.rewards[self.index].copy_(reward)\r\n",
    "        self.actions[self.index].copy_(action)\r\n",
    "\r\n",
    "        self.index = (self.index + 1) % NUM_ADVANCED_STEP  # インデックスの更新\r\n",
    "\r\n",
    "    def after_update(self):\r\n",
    "        '''Advantageするstep数が完了したら、最新のものをindex0に格納'''\r\n",
    "        self.observations[0].copy_(self.observations[-1])\r\n",
    "        self.masks[0].copy_(self.masks[-1])\r\n",
    "\r\n",
    "    def compute_returns(self, next_value):\r\n",
    "        '''Advantageするステップ中の各ステップの割引報酬和を計算する'''\r\n",
    "\r\n",
    "        # 注意：5step目から逆向きに計算しています\r\n",
    "        # 注意：5step目はAdvantage1となる。4ステップ目はAdvantage2となる。・・・\r\n",
    "        self.returns[-1] = next_value\r\n",
    "        for ad_step in reversed(range(self.rewards.size(0))):\r\n",
    "            self.returns[ad_step] = self.returns[ad_step + 1] * \\\r\n",
    "                GAMMA * self.masks[ad_step + 1] + self.rewards[ad_step]"
   ],
   "outputs": [],
   "metadata": {}
  },
  {
   "cell_type": "code",
   "execution_count": null,
   "source": [],
   "outputs": [],
   "metadata": {}
  }
 ],
 "metadata": {
  "orig_nbformat": 4,
  "language_info": {
   "name": "python",
   "version": "3.9.6",
   "mimetype": "text/x-python",
   "codemirror_mode": {
    "name": "ipython",
    "version": 3
   },
   "pygments_lexer": "ipython3",
   "nbconvert_exporter": "python",
   "file_extension": ".py"
  },
  "kernelspec": {
   "name": "python3",
   "display_name": "Python 3.9.6 64-bit ('rl': conda)"
  },
  "interpreter": {
   "hash": "038d8608cabbe08bfa95b44150dc94e5c00fe384375a362fc4ac8c97693876bc"
  }
 },
 "nbformat": 4,
 "nbformat_minor": 2
}