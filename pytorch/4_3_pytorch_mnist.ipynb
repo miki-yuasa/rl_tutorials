{
 "cells": [
  {
   "cell_type": "code",
   "execution_count": 1,
   "source": [
    "# 手書き数字の画像データMNISTをダウンロード\r\n",
    "\r\n",
    "# from sklearn.datasets import fetch_mldata\r\n",
    "# mnist = fetch_mldata('MNIST original', data_home=\".\")  # data_homeは保存先を指定します\r\n",
    "\r\n",
    "# 2019年1月31日訂正\r\n",
    "# 上記コードでは、以下のエラーが発生します\r\n",
    "#  [WinError 10060] 接続済みの呼び出し先が一定の時間を過ぎても正しく応答しなかったため、接続できませんでした。または接続済みのホストが応答しなかったため、確立された接続は失敗しました。\r\n",
    "\r\n",
    "from sklearn.datasets import fetch_openml\r\n",
    "mnist = fetch_openml('mnist_784', version=1, data_home=\".\")  # data_homeは保存先を指定します"
   ],
   "outputs": [],
   "metadata": {}
  },
  {
   "cell_type": "code",
   "execution_count": 2,
   "source": [
    "\r\n",
    "# 1. データの前処理（画像データとラベルに分割し、正規化）\r\n",
    "\r\n",
    "X = mnist.data / 255  # 0-255を0-1に正規化\r\n",
    "y = mnist.target\r\n",
    "\r\n",
    "# 2019年1月31日訂正\r\n",
    "# MNISTのデータセットの変更により、ラベルが数値データになっていないので、\r\n",
    "# 以下により、NumPyの配列の数値型に変換します\r\n",
    "\r\n",
    "import numpy as np\r\n",
    "y = np.array(y)\r\n",
    "y = y.astype(np.int32)"
   ],
   "outputs": [],
   "metadata": {}
  },
  {
   "cell_type": "code",
   "execution_count": 7,
   "source": [
    "# MNISTのデータの1つ目を可視化する\r\n",
    "\r\n",
    "# 2019年1月31日訂正\r\n",
    "# %matplotlibで%のあとに入っていたスペースを削除\r\n",
    "\r\n",
    "import matplotlib.pyplot as plt\r\n",
    "%matplotlib inline\r\n",
    "\r\n",
    "plt.imshow(X.to_numpy()[0].reshape(28, 28), cmap='gray')\r\n",
    "print(\"この画像データのラベルは{:.0f}です\".format(y[0]))"
   ],
   "outputs": [
    {
     "output_type": "stream",
     "name": "stdout",
     "text": [
      "この画像データのラベルは5です\n"
     ]
    },
    {
     "output_type": "display_data",
     "data": {
      "image/png": "[encoded data removed]",
      "text/plain": [
       "<Figure size 432x288 with 1 Axes>"
      ]
     },
     "metadata": {
      "needs_background": "light"
     }
    }
   ],
   "metadata": {}
  },
  {
   "cell_type": "code",
   "execution_count": 10,
   "source": [
    "# 2. DataLoderの作成\r\n",
    "\r\n",
    "import torch\r\n",
    "from torch.utils.data import TensorDataset, DataLoader\r\n",
    "from sklearn.model_selection import train_test_split\r\n",
    "\r\n",
    "# 2.1 データを訓練とテストに分割（6:1）\r\n",
    "X_train, X_test, y_train, y_test = train_test_split(\r\n",
    "    X, y, test_size=1/7, random_state=0)\r\n",
    "\r\n",
    "# 2.2 データをPyTorchのTensorに変換\r\n",
    "X_train = torch.Tensor(X_train.values)\r\n",
    "X_test = torch.Tensor(X_test.values)\r\n",
    "y_train = torch.LongTensor(y_train)\r\n",
    "y_test = torch.LongTensor(y_test)\r\n",
    "\r\n",
    "# 2.3 データとラベルをセットにしたDatasetを作成\r\n",
    "ds_train = TensorDataset(X_train, y_train)\r\n",
    "ds_test = TensorDataset(X_test, y_test)\r\n",
    "\r\n",
    "# 2.4 データセットのミニバッチサイズを指定した、Dataloaderを作成\r\n",
    "# Chainerのiterators.SerialIteratorと似ている\r\n",
    "loader_train = DataLoader(ds_train, batch_size=64, shuffle=True)\r\n",
    "loader_test = DataLoader(ds_test, batch_size=64, shuffle=False)"
   ],
   "outputs": [],
   "metadata": {}
  },
  {
   "cell_type": "code",
   "execution_count": 11,
   "source": [
    "# 3. ネットワークの構築\r\n",
    "# Keras風の書き方 \r\n",
    "\r\n",
    "from torch import nn\r\n",
    "\r\n",
    "model = nn.Sequential()\r\n",
    "model.add_module('fc1', nn.Linear(28*28*1, 100))\r\n",
    "model.add_module('relu1', nn.ReLU())\r\n",
    "model.add_module('fc2', nn.Linear(100, 100))\r\n",
    "model.add_module('relu2', nn.ReLU())\r\n",
    "model.add_module('fc3', nn.Linear(100, 10))\r\n",
    "\r\n",
    "print(model)"
   ],
   "outputs": [
    {
     "output_type": "stream",
     "name": "stdout",
     "text": [
      "Sequential(\n",
      "  (fc1): Linear(in_features=784, out_features=100, bias=True)\n",
      "  (relu1): ReLU()\n",
      "  (fc2): Linear(in_features=100, out_features=100, bias=True)\n",
      "  (relu2): ReLU()\n",
      "  (fc3): Linear(in_features=100, out_features=10, bias=True)\n",
      ")\n"
     ]
    }
   ],
   "metadata": {}
  },
  {
   "cell_type": "code",
   "execution_count": 12,
   "source": [
    "# 4. 誤差関数と最適化手法の設定\r\n",
    " \r\n",
    "from torch import optim\r\n",
    " \r\n",
    "# 誤差関数の設定\r\n",
    "loss_fn = nn.CrossEntropyLoss()  # 変数名にはcriterionも使われる\r\n",
    " \r\n",
    "# 重みを学習する際の最適化手法の選択\r\n",
    "optimizer = optim.Adam(model.parameters(), lr=0.01)"
   ],
   "outputs": [],
   "metadata": {}
  },
  {
   "cell_type": "code",
   "execution_count": 13,
   "source": [
    "\r\n",
    "# 5. 学習と推論の設定\r\n",
    "# 5-1. 学習1回でやることを定義します\r\n",
    "# Chainerのtraining.Trainer()に対応するものはない\r\n",
    " \r\n",
    "from torch.autograd import Variable\r\n",
    " \r\n",
    " \r\n",
    "def train(epoch):\r\n",
    "    model.train()  # ネットワークを学習モードに切り替える\r\n",
    " \r\n",
    "    # データローダーから1ミニバッチずつ取り出して計算する\r\n",
    "    for data, target in loader_train:\r\n",
    "        data, target = Variable(data), Variable(target)  # 微分可能に変換\r\n",
    "        optimizer.zero_grad()  # 一度計算された勾配結果を0にリセット\r\n",
    " \r\n",
    "        output = model(data)  # 入力dataをinputし、出力を求める\r\n",
    "        loss = loss_fn(output, target)  # 出力と訓練データの正解との誤差を求める\r\n",
    "        loss.backward()  # 誤差のバックプロパゲーションを求める\r\n",
    "        optimizer.step()  # バックプロパゲーションの値で重みを更新する\r\n",
    " \r\n",
    "    print(\"epoch{}：終了\\n\".format(epoch))"
   ],
   "outputs": [],
   "metadata": {}
  },
  {
   "cell_type": "code",
   "execution_count": 14,
   "source": [
    "# 5. 学習と推論の設定\r\n",
    "# 5-2. 推論1回でやることを定義します\r\n",
    "# Chainerのtrainer.extend(extensions.Evaluator())に対応するものはない\r\n",
    " \r\n",
    " \r\n",
    "def test():\r\n",
    "    model.eval()  # ネットワークを推論モードに切り替える\r\n",
    "    correct = 0\r\n",
    " \r\n",
    "    # データローダーから1ミニバッチずつ取り出して計算する\r\n",
    "    for data, target in loader_test:\r\n",
    "        data, target = Variable(data), Variable(target)  # 微分可能に変換\r\n",
    "        output = model(data)  # 入力dataをinputし、出力を求める\r\n",
    " \r\n",
    "        # 推論する\r\n",
    "        pred = output.data.max(1, keepdim=True)[1]  # 出力ラベルを求める\r\n",
    "        correct += pred.eq(target.data.view_as(pred)).sum()  # 正解と一緒だったらカウントアップ\r\n",
    " \r\n",
    "    # 正解率を出力\r\n",
    "    data_num = len(loader_test.dataset)  # データの総数\r\n",
    "    print('\\nテストデータの正解率: {}/{} ({:.0f}%)\\n'.format(correct,\r\n",
    "                                                   data_num, 100. * correct / data_num))\r\n"
   ],
   "outputs": [],
   "metadata": {}
  },
  {
   "cell_type": "code",
   "execution_count": 15,
   "source": [
    "# 学習なしにテストデータで推論してみよう\r\n",
    "test()"
   ],
   "outputs": [
    {
     "output_type": "stream",
     "name": "stdout",
     "text": [
      "\n",
      "テストデータの正解率: 1336/10000 (13%)\n",
      "\n"
     ]
    }
   ],
   "metadata": {}
  },
  {
   "cell_type": "code",
   "execution_count": 16,
   "source": [
    "\r\n",
    "# 6. 学習と推論の実行\r\n",
    "for epoch in range(3):\r\n",
    "    train(epoch)\r\n",
    "\r\n",
    "test()"
   ],
   "outputs": [
    {
     "output_type": "stream",
     "name": "stdout",
     "text": [
      "epoch0：終了\n",
      "\n",
      "epoch1：終了\n",
      "\n",
      "epoch2：終了\n",
      "\n",
      "\n",
      "テストデータの正解率: 9582/10000 (96%)\n",
      "\n"
     ]
    }
   ],
   "metadata": {}
  },
  {
   "cell_type": "code",
   "execution_count": 17,
   "source": [
    "# 例えば2018番目の画像データを推論してみる\r\n",
    "\r\n",
    "index = 2018\r\n",
    "\r\n",
    "model.eval()  # ネットワークを推論モードに切り替える\r\n",
    "data = X_test[index]\r\n",
    "output = model(data)  # 入力dataをinputし、出力を求める\r\n",
    "_, predicted = torch.max(output.data, 0)  # 確率が最大のラベルを求める\r\n",
    "\r\n",
    "print(\"予測結果は{}\".format(predicted))\r\n",
    "\r\n",
    "X_test_show = (X_test[index]).numpy()\r\n",
    "plt.imshow(X_test_show.reshape(28, 28), cmap='gray')\r\n",
    "print(\"この画像データの正解ラベルは{:.0f}です\".format(y_test[index]))"
   ],
   "outputs": [
    {
     "output_type": "stream",
     "name": "stdout",
     "text": [
      "予測結果は2\n",
      "この画像データの正解ラベルは2です\n"
     ]
    },
    {
     "output_type": "display_data",
     "data": {
      "image/png": "[encoded data removed]",
      "text/plain": [
       "<Figure size 432x288 with 1 Axes>"
      ]
     },
     "metadata": {
      "needs_background": "light"
     }
    }
   ],
   "metadata": {}
  },
  {
   "cell_type": "code",
   "execution_count": 18,
   "source": [
    "# 3. ネットワークの構築\r\n",
    "# ニューラルネットワークの設定（Chainer風の書き方）\r\n",
    "import torch.nn as nn\r\n",
    "import torch.nn.functional as F\r\n",
    " \r\n",
    " \r\n",
    "class Net(nn.Module):\r\n",
    " \r\n",
    "    def __init__(self, n_in, n_mid, n_out):\r\n",
    "        super(Net, self).__init__()\r\n",
    "        self.fc1 = nn.Linear(n_in, n_mid)  # Chainerと異なり、Noneは受けつけない。\r\n",
    "        self.fc2 = nn.Linear(n_mid, n_mid)\r\n",
    "        self.fc3 = nn.Linear(n_mid, n_out)\r\n",
    " \r\n",
    "    def forward(self, x):\r\n",
    "        # 入力xに合わせてforwardの計算を変えられる＝Define by Run\r\n",
    "        h1 = F.relu(self.fc1(x))\r\n",
    "        h2 = F.relu(self.fc2(h1))\r\n",
    "        output = self.fc3(h2)\r\n",
    "        return output\r\n",
    " \r\n",
    " \r\n",
    "model = Net(n_in=28*28, n_mid=100, n_out=10)  # ネットワークのオブジェクトを生成\r\n",
    "print(model)"
   ],
   "outputs": [
    {
     "output_type": "stream",
     "name": "stdout",
     "text": [
      "Net(\n",
      "  (fc1): Linear(in_features=784, out_features=100, bias=True)\n",
      "  (fc2): Linear(in_features=100, out_features=100, bias=True)\n",
      "  (fc3): Linear(in_features=100, out_features=10, bias=True)\n",
      ")\n"
     ]
    }
   ],
   "metadata": {}
  },
  {
   "cell_type": "code",
   "execution_count": null,
   "source": [],
   "outputs": [],
   "metadata": {}
  }
 ],
 "metadata": {
  "orig_nbformat": 4,
  "language_info": {
   "name": "python",
   "version": "3.9.6",
   "mimetype": "text/x-python",
   "codemirror_mode": {
    "name": "ipython",
    "version": 3
   },
   "pygments_lexer": "ipython3",
   "nbconvert_exporter": "python",
   "file_extension": ".py"
  },
  "kernelspec": {
   "name": "python3",
   "display_name": "Python 3.9.6 64-bit ('rl': conda)"
  },
  "interpreter": {
   "hash": "038d8608cabbe08bfa95b44150dc94e5c00fe384375a362fc4ac8c97693876bc"
  }
 },
 "nbformat": 4,
 "nbformat_minor": 2
}